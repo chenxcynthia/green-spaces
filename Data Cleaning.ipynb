{
 "cells": [
  {
   "cell_type": "code",
   "execution_count": 23,
   "metadata": {},
   "outputs": [],
   "source": [
    "import pandas as pd\n",
    "import numpy as np"
   ]
  },
  {
   "cell_type": "code",
   "execution_count": 24,
   "metadata": {},
   "outputs": [],
   "source": [
    "# percent cover data\n",
    "df_pc = pd.read_table('relevant/percent_cover_zipcode.txt', delimiter = ',')\n",
    "df_pc.columns = ['zip', 'pc_cover']\n",
    "df_pc_nyc = df_pc.loc[(df_pc['zip'] >= 10001) & (df_pc['zip'] <= 11697)]"
   ]
  },
  {
   "cell_type": "code",
   "execution_count": 25,
   "metadata": {},
   "outputs": [],
   "source": [
    "df_cities_zips = pd.read_csv('relevant/us_cities_zips.csv')\n",
    "# nyc zip codes: 10001 to 11697\n",
    "df_zip_nyc = df_cities_zips.loc[(df_cities_zips['zip_code'] >= 10001) & (df_cities_zips['zip_code'] <= 11697)]\n",
    "df_zip_nyc_relevant = df_zip_nyc[['zip_code', 'population', 'density']]\n",
    "df_zip_nyc_relevant.columns = ['zip', 'population', 'density']"
   ]
  },
  {
   "cell_type": "code",
   "execution_count": 26,
   "metadata": {},
   "outputs": [],
   "source": [
    "# merge datasets\n",
    "combined = pd.merge(df_zip_nyc_relevant, df_pc_nyc, how=\"outer\")\n",
    "combined = combined.dropna()"
   ]
  },
  {
   "cell_type": "code",
   "execution_count": 27,
   "metadata": {},
   "outputs": [],
   "source": [
    "# covid data\n",
    "df_hosprate = pd.read_csv('relevant/covid/hosprate-by-modzcta.csv')\n",
    "df_deathrate = pd.read_csv('relevant/covid/deathrate-by-modzcta.csv')\n",
    "df_percentpos = pd.read_csv('relevant/covid/percentpositive-by-modzcta.csv')\n",
    "\n",
    "# df_hosprate = df_hosprate.transpose()\n",
    "# df_hosprate.columns = df_hosprate.iloc[0]\n",
    "# df_hosprate.drop(df_hosprate.index[0])"
   ]
  },
  {
   "cell_type": "code",
   "execution_count": 28,
   "metadata": {},
   "outputs": [],
   "source": [
    "# get covid stats [hosp rate, death rate, percent pos] averaged by zip code across all months in 2020-current\n",
    "temp = []\n",
    "cols = df_hosprate.columns\n",
    "for i in range(7, len(cols)):\n",
    "    hosp_avg = np.nanmean(list(df_hosprate[df_hosprate.columns[i]]))\n",
    "    death_avg = np.nanmean(list(df_deathrate[df_deathrate.columns[i]]))\n",
    "    percentpos_avg = np.nanmean(list(df_percentpos[df_percentpos.columns[i]]))\n",
    "    temp.append([cols[i][-5:], hosp_avg, death_avg, percentpos_avg])\n",
    "    \n",
    "covid_data = pd.DataFrame(data = temp, columns = ['zip', 'hosp_avg', 'death_avg', 'percentpos_avg'])\n",
    "covid_data['zip']=covid_data['zip'].astype(int)"
   ]
  },
  {
   "cell_type": "code",
   "execution_count": 29,
   "metadata": {},
   "outputs": [],
   "source": [
    "df_combined = combined.merge(covid_data, left_on='zip', right_on='zip')"
   ]
  },
  {
   "cell_type": "code",
   "execution_count": 30,
   "metadata": {},
   "outputs": [
    {
     "data": {
      "text/html": [
       "<div>\n",
       "<style scoped>\n",
       "    .dataframe tbody tr th:only-of-type {\n",
       "        vertical-align: middle;\n",
       "    }\n",
       "\n",
       "    .dataframe tbody tr th {\n",
       "        vertical-align: top;\n",
       "    }\n",
       "\n",
       "    .dataframe thead th {\n",
       "        text-align: right;\n",
       "    }\n",
       "</style>\n",
       "<table border=\"1\" class=\"dataframe\">\n",
       "  <thead>\n",
       "    <tr style=\"text-align: right;\">\n",
       "      <th></th>\n",
       "      <th>zip</th>\n",
       "      <th>population</th>\n",
       "      <th>density</th>\n",
       "      <th>pc_cover</th>\n",
       "      <th>hosp_avg</th>\n",
       "      <th>death_avg</th>\n",
       "      <th>percentpos_avg</th>\n",
       "    </tr>\n",
       "  </thead>\n",
       "  <tbody>\n",
       "    <tr>\n",
       "      <th>zip</th>\n",
       "      <td>1.000000</td>\n",
       "      <td>0.129937</td>\n",
       "      <td>-0.497263</td>\n",
       "      <td>-0.089982</td>\n",
       "      <td>0.253898</td>\n",
       "      <td>0.378413</td>\n",
       "      <td>0.438812</td>\n",
       "    </tr>\n",
       "    <tr>\n",
       "      <th>population</th>\n",
       "      <td>0.129937</td>\n",
       "      <td>1.000000</td>\n",
       "      <td>0.167139</td>\n",
       "      <td>-0.162176</td>\n",
       "      <td>0.193378</td>\n",
       "      <td>0.326682</td>\n",
       "      <td>0.006114</td>\n",
       "    </tr>\n",
       "    <tr>\n",
       "      <th>density</th>\n",
       "      <td>-0.497263</td>\n",
       "      <td>0.167139</td>\n",
       "      <td>1.000000</td>\n",
       "      <td>-0.198399</td>\n",
       "      <td>-0.356450</td>\n",
       "      <td>-0.288728</td>\n",
       "      <td>-0.475898</td>\n",
       "    </tr>\n",
       "    <tr>\n",
       "      <th>pc_cover</th>\n",
       "      <td>-0.089982</td>\n",
       "      <td>-0.162176</td>\n",
       "      <td>-0.198399</td>\n",
       "      <td>1.000000</td>\n",
       "      <td>0.109307</td>\n",
       "      <td>-0.022119</td>\n",
       "      <td>0.080533</td>\n",
       "    </tr>\n",
       "    <tr>\n",
       "      <th>hosp_avg</th>\n",
       "      <td>0.253898</td>\n",
       "      <td>0.193378</td>\n",
       "      <td>-0.356450</td>\n",
       "      <td>0.109307</td>\n",
       "      <td>1.000000</td>\n",
       "      <td>0.745045</td>\n",
       "      <td>0.446150</td>\n",
       "    </tr>\n",
       "    <tr>\n",
       "      <th>death_avg</th>\n",
       "      <td>0.378413</td>\n",
       "      <td>0.326682</td>\n",
       "      <td>-0.288728</td>\n",
       "      <td>-0.022119</td>\n",
       "      <td>0.745045</td>\n",
       "      <td>1.000000</td>\n",
       "      <td>0.328625</td>\n",
       "    </tr>\n",
       "    <tr>\n",
       "      <th>percentpos_avg</th>\n",
       "      <td>0.438812</td>\n",
       "      <td>0.006114</td>\n",
       "      <td>-0.475898</td>\n",
       "      <td>0.080533</td>\n",
       "      <td>0.446150</td>\n",
       "      <td>0.328625</td>\n",
       "      <td>1.000000</td>\n",
       "    </tr>\n",
       "  </tbody>\n",
       "</table>\n",
       "</div>"
      ],
      "text/plain": [
       "                     zip  population   density  pc_cover  hosp_avg  death_avg  \\\n",
       "zip             1.000000    0.129937 -0.497263 -0.089982  0.253898   0.378413   \n",
       "population      0.129937    1.000000  0.167139 -0.162176  0.193378   0.326682   \n",
       "density        -0.497263    0.167139  1.000000 -0.198399 -0.356450  -0.288728   \n",
       "pc_cover       -0.089982   -0.162176 -0.198399  1.000000  0.109307  -0.022119   \n",
       "hosp_avg        0.253898    0.193378 -0.356450  0.109307  1.000000   0.745045   \n",
       "death_avg       0.378413    0.326682 -0.288728 -0.022119  0.745045   1.000000   \n",
       "percentpos_avg  0.438812    0.006114 -0.475898  0.080533  0.446150   0.328625   \n",
       "\n",
       "                percentpos_avg  \n",
       "zip                   0.438812  \n",
       "population            0.006114  \n",
       "density              -0.475898  \n",
       "pc_cover              0.080533  \n",
       "hosp_avg              0.446150  \n",
       "death_avg             0.328625  \n",
       "percentpos_avg        1.000000  "
      ]
     },
     "execution_count": 30,
     "metadata": {},
     "output_type": "execute_result"
    }
   ],
   "source": [
    "df_combined.corr(method='pearson')"
   ]
  },
  {
   "cell_type": "code",
   "execution_count": null,
   "metadata": {},
   "outputs": [],
   "source": []
  }
 ],
 "metadata": {
  "kernelspec": {
   "display_name": "Python 3",
   "language": "python",
   "name": "python3"
  },
  "language_info": {
   "codemirror_mode": {
    "name": "ipython",
    "version": 3
   },
   "file_extension": ".py",
   "mimetype": "text/x-python",
   "name": "python",
   "nbconvert_exporter": "python",
   "pygments_lexer": "ipython3",
   "version": "3.7.6"
  }
 },
 "nbformat": 4,
 "nbformat_minor": 5
}
