{
 "cells": [
  {
   "cell_type": "code",
   "execution_count": 1,
   "metadata": {},
   "outputs": [],
   "source": [
    "# %%\n",
    "from ast import GtE\n",
    "from cmath import nan\n",
    "from contextlib import nullcontext\n",
    "import pandas as pd\n",
    "import seaborn as sns\n",
    "import plotly.graph_objects as go\n",
    "import numpy as np\n",
    "import scipy\n",
    "from plotly.subplots import make_subplots\n",
    "import math\n",
    "import os\n",
    "\n",
    "from sklearn.decomposition import PCA\n",
    "from sklearn import preprocessing\n",
    "from sklearn import metrics\n",
    "import matplotlib.pyplot as plt\n",
    "import seaborn as sns\n",
    "\n",
    "# SVM \n",
    "from sklearn.metrics import plot_confusion_matrix, classification_report, confusion_matrix\n",
    "from sklearn.model_selection import GridSearchCV\n",
    "\n",
    "from sklearn.model_selection import train_test_split\n",
    "from sklearn.linear_model import LogisticRegression, LinearRegression\n",
    "import statsmodels.api as sm\n",
    "\n",
    "from betacal import BetaCalibration\n",
    "\n",
    "\n",
    "from sklearn.datasets import load_digits\n",
    "from sklearn.manifold import Isomap, TSNE, LocallyLinearEmbedding, SpectralEmbedding\n",
    "\n",
    "\n",
    "from sklearn.svm import SVC\n",
    "\n",
    "import random\n",
    "\n",
    "import datetime\n",
    "from datetime import timedelta"
   ]
  },
  {
   "cell_type": "code",
   "execution_count": 54,
   "metadata": {},
   "outputs": [],
   "source": [
    "# zipcode and county name\n",
    "zip_and_county = pd.read_csv(\"/Users/Iris/CitadelWomenDatathon/green-spaces/relevant/us_cities_zips.csv\")"
   ]
  },
  {
   "cell_type": "code",
   "execution_count": 2,
   "metadata": {},
   "outputs": [],
   "source": [
    "# census block to county name\n",
    "censusblock_county_df = pd.read_csv(\"/Users/Iris/CitadelWomenDatathon/census_code_mappers/us_blocks.csv\")"
   ]
  },
  {
   "cell_type": "code",
   "execution_count": 3,
   "metadata": {},
   "outputs": [],
   "source": [
    "# by census block\n",
    "urban_tree_canopy_df = pd.read_csv(\"/Users/Iris/CitadelWomenDatathon/greenspace_data/urban_tree_canopy.csv\")"
   ]
  },
  {
   "cell_type": "code",
   "execution_count": 4,
   "metadata": {},
   "outputs": [
    {
     "data": {
      "text/html": [
       "<div>\n",
       "<style scoped>\n",
       "    .dataframe tbody tr th:only-of-type {\n",
       "        vertical-align: middle;\n",
       "    }\n",
       "\n",
       "    .dataframe tbody tr th {\n",
       "        vertical-align: top;\n",
       "    }\n",
       "\n",
       "    .dataframe thead th {\n",
       "        text-align: right;\n",
       "    }\n",
       "</style>\n",
       "<table border=\"1\" class=\"dataframe\">\n",
       "  <thead>\n",
       "    <tr style=\"text-align: right;\">\n",
       "      <th></th>\n",
       "      <th>city_name</th>\n",
       "      <th>census_block</th>\n",
       "      <th>mean_percent_tree_cover</th>\n",
       "      <th>tree_gap</th>\n",
       "      <th>surface_temp</th>\n",
       "      <th>income_percent</th>\n",
       "      <th>income_group</th>\n",
       "      <th>pop_dens_group</th>\n",
       "    </tr>\n",
       "  </thead>\n",
       "  <tbody>\n",
       "    <tr>\n",
       "      <th>0</th>\n",
       "      <td>Memphis, TN--MS--AR</td>\n",
       "      <td>4.715701e+14</td>\n",
       "      <td>0.170732</td>\n",
       "      <td>0.276204</td>\n",
       "      <td>29.350</td>\n",
       "      <td>9249</td>\n",
       "      <td>1</td>\n",
       "      <td>4</td>\n",
       "    </tr>\n",
       "    <tr>\n",
       "      <th>1</th>\n",
       "      <td>Memphis, TN--MS--AR</td>\n",
       "      <td>4.715701e+14</td>\n",
       "      <td>0.000000</td>\n",
       "      <td>0.276204</td>\n",
       "      <td>30.350</td>\n",
       "      <td>9249</td>\n",
       "      <td>1</td>\n",
       "      <td>4</td>\n",
       "    </tr>\n",
       "    <tr>\n",
       "      <th>2</th>\n",
       "      <td>Memphis, TN--MS--AR</td>\n",
       "      <td>4.715701e+14</td>\n",
       "      <td>0.050112</td>\n",
       "      <td>0.276204</td>\n",
       "      <td>32.834</td>\n",
       "      <td>12071</td>\n",
       "      <td>1</td>\n",
       "      <td>4</td>\n",
       "    </tr>\n",
       "    <tr>\n",
       "      <th>3</th>\n",
       "      <td>Memphis, TN--MS--AR</td>\n",
       "      <td>4.715701e+14</td>\n",
       "      <td>0.265038</td>\n",
       "      <td>0.276204</td>\n",
       "      <td>31.000</td>\n",
       "      <td>7721</td>\n",
       "      <td>1</td>\n",
       "      <td>4</td>\n",
       "    </tr>\n",
       "    <tr>\n",
       "      <th>4</th>\n",
       "      <td>Memphis, TN--MS--AR</td>\n",
       "      <td>4.715701e+14</td>\n",
       "      <td>0.045038</td>\n",
       "      <td>0.276204</td>\n",
       "      <td>31.450</td>\n",
       "      <td>7721</td>\n",
       "      <td>1</td>\n",
       "      <td>4</td>\n",
       "    </tr>\n",
       "  </tbody>\n",
       "</table>\n",
       "</div>"
      ],
      "text/plain": [
       "             city_name  census_block  mean_percent_tree_cover  tree_gap  \\\n",
       "0  Memphis, TN--MS--AR  4.715701e+14                 0.170732  0.276204   \n",
       "1  Memphis, TN--MS--AR  4.715701e+14                 0.000000  0.276204   \n",
       "2  Memphis, TN--MS--AR  4.715701e+14                 0.050112  0.276204   \n",
       "3  Memphis, TN--MS--AR  4.715701e+14                 0.265038  0.276204   \n",
       "4  Memphis, TN--MS--AR  4.715701e+14                 0.045038  0.276204   \n",
       "\n",
       "   surface_temp  income_percent  income_group  pop_dens_group  \n",
       "0        29.350            9249             1               4  \n",
       "1        30.350            9249             1               4  \n",
       "2        32.834           12071             1               4  \n",
       "3        31.000            7721             1               4  \n",
       "4        31.450            7721             1               4  "
      ]
     },
     "execution_count": 4,
     "metadata": {},
     "output_type": "execute_result"
    }
   ],
   "source": [
    "urban_tree_canopy_df.head()"
   ]
  },
  {
   "cell_type": "code",
   "execution_count": 5,
   "metadata": {},
   "outputs": [
    {
     "data": {
      "text/plain": [
       "1938356"
      ]
     },
     "execution_count": 5,
     "metadata": {},
     "output_type": "execute_result"
    }
   ],
   "source": [
    "len(urban_tree_canopy_df['census_block'].unique())"
   ]
  },
  {
   "cell_type": "code",
   "execution_count": 6,
   "metadata": {},
   "outputs": [],
   "source": [
    "nyc_df = urban_tree_canopy_df.loc[urban_tree_canopy_df['city_name'] == 'New York--Newark, NY--NJ--CT']"
   ]
  },
  {
   "cell_type": "code",
   "execution_count": 7,
   "metadata": {},
   "outputs": [
    {
     "data": {
      "text/plain": [
       "<bound method Series.unique of 1230124    3.608501e+14\n",
       "1230125    3.401301e+14\n",
       "1230126    3.401300e+14\n",
       "1230127    3.401300e+14\n",
       "1230128    3.604712e+14\n",
       "               ...     \n",
       "1378538    3.610320e+14\n",
       "1378539    3.610320e+14\n",
       "1378540    3.610320e+14\n",
       "1378541    3.610320e+14\n",
       "1378542    3.610320e+14\n",
       "Name: census_block, Length: 56056, dtype: float64>"
      ]
     },
     "execution_count": 7,
     "metadata": {},
     "output_type": "execute_result"
    }
   ],
   "source": [
    "(nyc_df.loc[urban_tree_canopy_df['pop_dens_group'] == 1]['census_block']).unique"
   ]
  },
  {
   "cell_type": "code",
   "execution_count": 8,
   "metadata": {},
   "outputs": [
    {
     "data": {
      "image/png": "[encoded data removed]",
      "text/plain": [
       "<Figure size 576x432 with 4 Axes>"
      ]
     },
     "metadata": {},
     "output_type": "display_data"
    }
   ],
   "source": [
    "import seaborn as sns\n",
    "sns.set(style=\"whitegrid\")  \n",
    "fig,axs = plt.subplots(2,2, figsize = (8,6))\n",
    "sns.histplot(data=nyc_df.loc[urban_tree_canopy_df['pop_dens_group'] == 1], x=\"mean_percent_tree_cover\", kde=True, color=\"skyblue\", ax=axs[0, 0])\n",
    "axs[0, 0].set_xlabel('pop_dens_group 1')\n",
    "sns.histplot(data=nyc_df.loc[urban_tree_canopy_df['pop_dens_group'] == 2], x=\"mean_percent_tree_cover\", kde=True, color=\"gold\", ax=axs[0, 1])\n",
    "axs[0, 1].set_xlabel('pop_dens_group 2')\n",
    "sns.histplot(data=nyc_df.loc[urban_tree_canopy_df['pop_dens_group'] == 3], x=\"mean_percent_tree_cover\", kde=True, color=\"olive\", ax=axs[1, 0])\n",
    "axs[1, 0].set_xlabel('pop_dens_group 3')\n",
    "sns.histplot(data=nyc_df.loc[urban_tree_canopy_df['pop_dens_group'] == 4], x=\"mean_percent_tree_cover\", kde=True, color=\"purple\", ax=axs[1, 1])\n",
    "axs[1, 1].set_xlabel('pop_dens_group 4')\n",
    "fig.tight_layout()"
   ]
  },
  {
   "cell_type": "code",
   "execution_count": 75,
   "metadata": {},
   "outputs": [
    {
     "data": {
      "image/png": "[encoded data removed]",
      "text/plain": [
       "<Figure size 576x432 with 4 Axes>"
      ]
     },
     "metadata": {},
     "output_type": "display_data"
    }
   ],
   "source": [
    "import seaborn as sns\n",
    "sns.set(style=\"whitegrid\")  \n",
    "fig,axs = plt.subplots(2,2, figsize = (8,6))\n",
    "sns.histplot(data=nyc_df.loc[urban_tree_canopy_df['income_group'] == 1], x=\"mean_percent_tree_cover\", kde=True, color=\"skyblue\", ax=axs[0, 0])\n",
    "axs[0, 0].set_xlabel('income 1')\n",
    "sns.histplot(data=nyc_df.loc[urban_tree_canopy_df['income_group'] == 2], x=\"mean_percent_tree_cover\", kde=True, color=\"gold\", ax=axs[0, 1])\n",
    "axs[0, 1].set_xlabel('income 2')\n",
    "sns.histplot(data=nyc_df.loc[urban_tree_canopy_df['income_group'] == 3], x=\"mean_percent_tree_cover\", kde=True, color=\"olive\", ax=axs[1, 0])\n",
    "axs[1, 0].set_xlabel('income 3')\n",
    "sns.histplot(data=nyc_df.loc[urban_tree_canopy_df['income_group'] == 4], x=\"mean_percent_tree_cover\", kde=True, color=\"purple\", ax=axs[1, 1])\n",
    "axs[1, 1].set_xlabel('income 4')\n",
    "fig.tight_layout()\n",
    "\n",
    "plt.savefig('/Users/Iris/CitadelWomenDatathon/green-spaces/figs/testing_income_v_tree.pdf', format='pdf', facecolor='w', bbox_inches='tight')"
   ]
  },
  {
   "cell_type": "code",
   "execution_count": 33,
   "metadata": {},
   "outputs": [
    {
     "data": {
      "text/plain": [
       "-0.3954661781874581"
      ]
     },
     "execution_count": 33,
     "metadata": {},
     "output_type": "execute_result"
    }
   ],
   "source": [
    "urban_tree_canopy_df['pop_dens_group'].corr(urban_tree_canopy_df['mean_percent_tree_cover'])"
   ]
  },
  {
   "cell_type": "code",
   "execution_count": 73,
   "metadata": {},
   "outputs": [
    {
     "data": {
      "image/png": "[encoded data removed]",
      "text/plain": [
       "<Figure size 576x432 with 4 Axes>"
      ]
     },
     "metadata": {},
     "output_type": "display_data"
    }
   ],
   "source": [
    "import seaborn as sns\n",
    "sns.set(style=\"whitegrid\")  \n",
    "fig,axs = plt.subplots(2,2, figsize = (8,6))\n",
    "sns.histplot(data=nyc_df.loc[urban_tree_canopy_df['income_group'] == 1], x=\"pop_dens_group\", kde=True, color=\"skyblue\", ax=axs[0, 0])\n",
    "axs[0, 0].set_xlabel('Income Level 1')\n",
    "sns.histplot(data=nyc_df.loc[urban_tree_canopy_df['income_group'] == 2], x=\"pop_dens_group\", kde=True, color=\"gold\", ax=axs[0, 1])\n",
    "axs[0, 1].set_xlabel('Income Level 2')\n",
    "sns.histplot(data=nyc_df.loc[urban_tree_canopy_df['income_group'] == 3], x=\"pop_dens_group\", kde=True, color=\"olive\", ax=axs[1, 0])\n",
    "axs[1, 0].set_xlabel('Income Level 3')\n",
    "sns.histplot(data=nyc_df.loc[urban_tree_canopy_df['income_group'] == 4], x=\"pop_dens_group\", kde=True, color=\"purple\", ax=axs[1, 1])\n",
    "axs[1, 1].set_xlabel('Income Level 4')\n",
    "fig.tight_layout()"
   ]
  },
  {
   "cell_type": "code",
   "execution_count": 11,
   "metadata": {},
   "outputs": [
    {
     "data": {
      "text/html": [
       "<div>\n",
       "<style scoped>\n",
       "    .dataframe tbody tr th:only-of-type {\n",
       "        vertical-align: middle;\n",
       "    }\n",
       "\n",
       "    .dataframe tbody tr th {\n",
       "        vertical-align: top;\n",
       "    }\n",
       "\n",
       "    .dataframe thead th {\n",
       "        text-align: right;\n",
       "    }\n",
       "</style>\n",
       "<table border=\"1\" class=\"dataframe\">\n",
       "  <thead>\n",
       "    <tr style=\"text-align: right;\">\n",
       "      <th></th>\n",
       "      <th>state_fip</th>\n",
       "      <th>county_fip</th>\n",
       "      <th>county_name</th>\n",
       "      <th>tract_fip</th>\n",
       "      <th>block</th>\n",
       "      <th>tract_geoid</th>\n",
       "      <th>block_geoid</th>\n",
       "    </tr>\n",
       "  </thead>\n",
       "  <tbody>\n",
       "    <tr>\n",
       "      <th>0</th>\n",
       "      <td>4</td>\n",
       "      <td>1</td>\n",
       "      <td>Apache County</td>\n",
       "      <td>942600</td>\n",
       "      <td>1000</td>\n",
       "      <td>4001942600</td>\n",
       "      <td>40019426001000</td>\n",
       "    </tr>\n",
       "    <tr>\n",
       "      <th>1</th>\n",
       "      <td>4</td>\n",
       "      <td>1</td>\n",
       "      <td>Apache County</td>\n",
       "      <td>942600</td>\n",
       "      <td>1001</td>\n",
       "      <td>4001942600</td>\n",
       "      <td>40019426001001</td>\n",
       "    </tr>\n",
       "    <tr>\n",
       "      <th>2</th>\n",
       "      <td>4</td>\n",
       "      <td>1</td>\n",
       "      <td>Apache County</td>\n",
       "      <td>942600</td>\n",
       "      <td>1002</td>\n",
       "      <td>4001942600</td>\n",
       "      <td>40019426001002</td>\n",
       "    </tr>\n",
       "    <tr>\n",
       "      <th>3</th>\n",
       "      <td>4</td>\n",
       "      <td>1</td>\n",
       "      <td>Apache County</td>\n",
       "      <td>942600</td>\n",
       "      <td>1003</td>\n",
       "      <td>4001942600</td>\n",
       "      <td>40019426001003</td>\n",
       "    </tr>\n",
       "    <tr>\n",
       "      <th>4</th>\n",
       "      <td>4</td>\n",
       "      <td>1</td>\n",
       "      <td>Apache County</td>\n",
       "      <td>942600</td>\n",
       "      <td>1004</td>\n",
       "      <td>4001942600</td>\n",
       "      <td>40019426001004</td>\n",
       "    </tr>\n",
       "    <tr>\n",
       "      <th>...</th>\n",
       "      <td>...</td>\n",
       "      <td>...</td>\n",
       "      <td>...</td>\n",
       "      <td>...</td>\n",
       "      <td>...</td>\n",
       "      <td>...</td>\n",
       "      <td>...</td>\n",
       "    </tr>\n",
       "    <tr>\n",
       "      <th>11158380</th>\n",
       "      <td>41</td>\n",
       "      <td>71</td>\n",
       "      <td>Yamhill County</td>\n",
       "      <td>31000</td>\n",
       "      <td>2138</td>\n",
       "      <td>41071031000</td>\n",
       "      <td>410710310002138</td>\n",
       "    </tr>\n",
       "    <tr>\n",
       "      <th>11158381</th>\n",
       "      <td>41</td>\n",
       "      <td>71</td>\n",
       "      <td>Yamhill County</td>\n",
       "      <td>31000</td>\n",
       "      <td>2139</td>\n",
       "      <td>41071031000</td>\n",
       "      <td>410710310002139</td>\n",
       "    </tr>\n",
       "    <tr>\n",
       "      <th>11158382</th>\n",
       "      <td>41</td>\n",
       "      <td>71</td>\n",
       "      <td>Yamhill County</td>\n",
       "      <td>31000</td>\n",
       "      <td>2140</td>\n",
       "      <td>41071031000</td>\n",
       "      <td>410710310002140</td>\n",
       "    </tr>\n",
       "    <tr>\n",
       "      <th>11158383</th>\n",
       "      <td>41</td>\n",
       "      <td>71</td>\n",
       "      <td>Yamhill County</td>\n",
       "      <td>31000</td>\n",
       "      <td>2141</td>\n",
       "      <td>41071031000</td>\n",
       "      <td>410710310002141</td>\n",
       "    </tr>\n",
       "    <tr>\n",
       "      <th>11158384</th>\n",
       "      <td>41</td>\n",
       "      <td>71</td>\n",
       "      <td>Yamhill County</td>\n",
       "      <td>31000</td>\n",
       "      <td>2142</td>\n",
       "      <td>41071031000</td>\n",
       "      <td>410710310002142</td>\n",
       "    </tr>\n",
       "  </tbody>\n",
       "</table>\n",
       "<p>11158385 rows × 7 columns</p>\n",
       "</div>"
      ],
      "text/plain": [
       "          state_fip  county_fip     county_name  tract_fip  block  \\\n",
       "0                 4           1   Apache County     942600   1000   \n",
       "1                 4           1   Apache County     942600   1001   \n",
       "2                 4           1   Apache County     942600   1002   \n",
       "3                 4           1   Apache County     942600   1003   \n",
       "4                 4           1   Apache County     942600   1004   \n",
       "...             ...         ...             ...        ...    ...   \n",
       "11158380         41          71  Yamhill County      31000   2138   \n",
       "11158381         41          71  Yamhill County      31000   2139   \n",
       "11158382         41          71  Yamhill County      31000   2140   \n",
       "11158383         41          71  Yamhill County      31000   2141   \n",
       "11158384         41          71  Yamhill County      31000   2142   \n",
       "\n",
       "          tract_geoid      block_geoid  \n",
       "0          4001942600   40019426001000  \n",
       "1          4001942600   40019426001001  \n",
       "2          4001942600   40019426001002  \n",
       "3          4001942600   40019426001003  \n",
       "4          4001942600   40019426001004  \n",
       "...               ...              ...  \n",
       "11158380  41071031000  410710310002138  \n",
       "11158381  41071031000  410710310002139  \n",
       "11158382  41071031000  410710310002140  \n",
       "11158383  41071031000  410710310002141  \n",
       "11158384  41071031000  410710310002142  \n",
       "\n",
       "[11158385 rows x 7 columns]"
      ]
     },
     "execution_count": 11,
     "metadata": {},
     "output_type": "execute_result"
    }
   ],
   "source": [
    "censusblock_county_df"
   ]
  },
  {
   "cell_type": "code",
   "execution_count": 12,
   "metadata": {},
   "outputs": [
    {
     "data": {
      "text/html": [
       "<div>\n",
       "<style scoped>\n",
       "    .dataframe tbody tr th:only-of-type {\n",
       "        vertical-align: middle;\n",
       "    }\n",
       "\n",
       "    .dataframe tbody tr th {\n",
       "        vertical-align: top;\n",
       "    }\n",
       "\n",
       "    .dataframe thead th {\n",
       "        text-align: right;\n",
       "    }\n",
       "</style>\n",
       "<table border=\"1\" class=\"dataframe\">\n",
       "  <thead>\n",
       "    <tr style=\"text-align: right;\">\n",
       "      <th></th>\n",
       "      <th>city_name</th>\n",
       "      <th>census_block</th>\n",
       "      <th>mean_percent_tree_cover</th>\n",
       "      <th>tree_gap</th>\n",
       "      <th>surface_temp</th>\n",
       "      <th>income_percent</th>\n",
       "      <th>income_group</th>\n",
       "      <th>pop_dens_group</th>\n",
       "    </tr>\n",
       "  </thead>\n",
       "  <tbody>\n",
       "    <tr>\n",
       "      <th>1223436</th>\n",
       "      <td>New York--Newark, NY--NJ--CT</td>\n",
       "      <td>3.604709e+14</td>\n",
       "      <td>0.030497</td>\n",
       "      <td>0.196316</td>\n",
       "      <td>30.425000</td>\n",
       "      <td>12800</td>\n",
       "      <td>1</td>\n",
       "      <td>3</td>\n",
       "    </tr>\n",
       "    <tr>\n",
       "      <th>1223437</th>\n",
       "      <td>New York--Newark, NY--NJ--CT</td>\n",
       "      <td>3.401301e+14</td>\n",
       "      <td>0.104074</td>\n",
       "      <td>0.196316</td>\n",
       "      <td>31.654348</td>\n",
       "      <td>19968</td>\n",
       "      <td>1</td>\n",
       "      <td>3</td>\n",
       "    </tr>\n",
       "    <tr>\n",
       "      <th>1223438</th>\n",
       "      <td>New York--Newark, NY--NJ--CT</td>\n",
       "      <td>3.403903e+14</td>\n",
       "      <td>0.294734</td>\n",
       "      <td>0.196316</td>\n",
       "      <td>29.812500</td>\n",
       "      <td>19968</td>\n",
       "      <td>1</td>\n",
       "      <td>3</td>\n",
       "    </tr>\n",
       "    <tr>\n",
       "      <th>1223439</th>\n",
       "      <td>New York--Newark, NY--NJ--CT</td>\n",
       "      <td>3.608500e+14</td>\n",
       "      <td>0.419259</td>\n",
       "      <td>0.196316</td>\n",
       "      <td>28.116667</td>\n",
       "      <td>15361</td>\n",
       "      <td>1</td>\n",
       "      <td>3</td>\n",
       "    </tr>\n",
       "    <tr>\n",
       "      <th>1223440</th>\n",
       "      <td>New York--Newark, NY--NJ--CT</td>\n",
       "      <td>3.604709e+14</td>\n",
       "      <td>0.053940</td>\n",
       "      <td>0.196316</td>\n",
       "      <td>29.905556</td>\n",
       "      <td>19201</td>\n",
       "      <td>1</td>\n",
       "      <td>3</td>\n",
       "    </tr>\n",
       "    <tr>\n",
       "      <th>...</th>\n",
       "      <td>...</td>\n",
       "      <td>...</td>\n",
       "      <td>...</td>\n",
       "      <td>...</td>\n",
       "      <td>...</td>\n",
       "      <td>...</td>\n",
       "      <td>...</td>\n",
       "      <td>...</td>\n",
       "    </tr>\n",
       "    <tr>\n",
       "      <th>1378538</th>\n",
       "      <td>New York--Newark, NY--NJ--CT</td>\n",
       "      <td>3.610320e+14</td>\n",
       "      <td>0.374401</td>\n",
       "      <td>0.558636</td>\n",
       "      <td>26.368182</td>\n",
       "      <td>58897</td>\n",
       "      <td>4</td>\n",
       "      <td>1</td>\n",
       "    </tr>\n",
       "    <tr>\n",
       "      <th>1378539</th>\n",
       "      <td>New York--Newark, NY--NJ--CT</td>\n",
       "      <td>3.610320e+14</td>\n",
       "      <td>0.019905</td>\n",
       "      <td>0.558636</td>\n",
       "      <td>23.787500</td>\n",
       "      <td>58897</td>\n",
       "      <td>4</td>\n",
       "      <td>1</td>\n",
       "    </tr>\n",
       "    <tr>\n",
       "      <th>1378540</th>\n",
       "      <td>New York--Newark, NY--NJ--CT</td>\n",
       "      <td>3.610320e+14</td>\n",
       "      <td>0.052743</td>\n",
       "      <td>0.558636</td>\n",
       "      <td>24.057143</td>\n",
       "      <td>58897</td>\n",
       "      <td>4</td>\n",
       "      <td>1</td>\n",
       "    </tr>\n",
       "    <tr>\n",
       "      <th>1378541</th>\n",
       "      <td>New York--Newark, NY--NJ--CT</td>\n",
       "      <td>3.610320e+14</td>\n",
       "      <td>0.467982</td>\n",
       "      <td>0.558636</td>\n",
       "      <td>24.526000</td>\n",
       "      <td>58897</td>\n",
       "      <td>4</td>\n",
       "      <td>1</td>\n",
       "    </tr>\n",
       "    <tr>\n",
       "      <th>1378542</th>\n",
       "      <td>New York--Newark, NY--NJ--CT</td>\n",
       "      <td>3.610320e+14</td>\n",
       "      <td>0.033843</td>\n",
       "      <td>0.558636</td>\n",
       "      <td>28.783333</td>\n",
       "      <td>58897</td>\n",
       "      <td>4</td>\n",
       "      <td>1</td>\n",
       "    </tr>\n",
       "  </tbody>\n",
       "</table>\n",
       "<p>155107 rows × 8 columns</p>\n",
       "</div>"
      ],
      "text/plain": [
       "                            city_name  census_block  mean_percent_tree_cover  \\\n",
       "1223436  New York--Newark, NY--NJ--CT  3.604709e+14                 0.030497   \n",
       "1223437  New York--Newark, NY--NJ--CT  3.401301e+14                 0.104074   \n",
       "1223438  New York--Newark, NY--NJ--CT  3.403903e+14                 0.294734   \n",
       "1223439  New York--Newark, NY--NJ--CT  3.608500e+14                 0.419259   \n",
       "1223440  New York--Newark, NY--NJ--CT  3.604709e+14                 0.053940   \n",
       "...                               ...           ...                      ...   \n",
       "1378538  New York--Newark, NY--NJ--CT  3.610320e+14                 0.374401   \n",
       "1378539  New York--Newark, NY--NJ--CT  3.610320e+14                 0.019905   \n",
       "1378540  New York--Newark, NY--NJ--CT  3.610320e+14                 0.052743   \n",
       "1378541  New York--Newark, NY--NJ--CT  3.610320e+14                 0.467982   \n",
       "1378542  New York--Newark, NY--NJ--CT  3.610320e+14                 0.033843   \n",
       "\n",
       "         tree_gap  surface_temp  income_percent  income_group  pop_dens_group  \n",
       "1223436  0.196316     30.425000           12800             1               3  \n",
       "1223437  0.196316     31.654348           19968             1               3  \n",
       "1223438  0.196316     29.812500           19968             1               3  \n",
       "1223439  0.196316     28.116667           15361             1               3  \n",
       "1223440  0.196316     29.905556           19201             1               3  \n",
       "...           ...           ...             ...           ...             ...  \n",
       "1378538  0.558636     26.368182           58897             4               1  \n",
       "1378539  0.558636     23.787500           58897             4               1  \n",
       "1378540  0.558636     24.057143           58897             4               1  \n",
       "1378541  0.558636     24.526000           58897             4               1  \n",
       "1378542  0.558636     28.783333           58897             4               1  \n",
       "\n",
       "[155107 rows x 8 columns]"
      ]
     },
     "execution_count": 12,
     "metadata": {},
     "output_type": "execute_result"
    }
   ],
   "source": [
    "nyc_df"
   ]
  },
  {
   "cell_type": "code",
   "execution_count": 15,
   "metadata": {},
   "outputs": [
    {
     "data": {
      "text/plain": [
       "1223436"
      ]
     },
     "execution_count": 15,
     "metadata": {},
     "output_type": "execute_result"
    }
   ],
   "source": [
    "censusblock_county_df.loc[censusblock_county_df['block_geoid'] == 1223436]"
   ]
  },
  {
   "cell_type": "code",
   "execution_count": 30,
   "metadata": {},
   "outputs": [
    {
     "data": {
      "text/html": [
       "<div>\n",
       "<style scoped>\n",
       "    .dataframe tbody tr th:only-of-type {\n",
       "        vertical-align: middle;\n",
       "    }\n",
       "\n",
       "    .dataframe tbody tr th {\n",
       "        vertical-align: top;\n",
       "    }\n",
       "\n",
       "    .dataframe thead th {\n",
       "        text-align: right;\n",
       "    }\n",
       "</style>\n",
       "<table border=\"1\" class=\"dataframe\">\n",
       "  <thead>\n",
       "    <tr style=\"text-align: right;\">\n",
       "      <th></th>\n",
       "      <th>state_fip</th>\n",
       "      <th>county_fip</th>\n",
       "      <th>county_name</th>\n",
       "      <th>tract_fip</th>\n",
       "      <th>block</th>\n",
       "      <th>tract_geoid</th>\n",
       "      <th>block_geoid</th>\n",
       "    </tr>\n",
       "  </thead>\n",
       "  <tbody>\n",
       "    <tr>\n",
       "      <th>5154301</th>\n",
       "      <td>36</td>\n",
       "      <td>47</td>\n",
       "      <td>Kings County</td>\n",
       "      <td>87800</td>\n",
       "      <td>2000</td>\n",
       "      <td>36047087800</td>\n",
       "      <td>360470878002000</td>\n",
       "    </tr>\n",
       "  </tbody>\n",
       "</table>\n",
       "</div>"
      ],
      "text/plain": [
       "         state_fip  county_fip   county_name  tract_fip  block  tract_geoid  \\\n",
       "5154301         36          47  Kings County      87800   2000  36047087800   \n",
       "\n",
       "             block_geoid  \n",
       "5154301  360470878002000  "
      ]
     },
     "execution_count": 30,
     "metadata": {},
     "output_type": "execute_result"
    }
   ],
   "source": [
    "censusblock_county_df.loc[censusblock_county_df['block_geoid'] == int(list(nyc_df['census_block'].values)[0])]"
   ]
  },
  {
   "cell_type": "code",
   "execution_count": null,
   "metadata": {},
   "outputs": [],
   "source": [
    "int(list(nyc_df['census_block'].values)[0])"
   ]
  },
  {
   "cell_type": "code",
   "execution_count": 25,
   "metadata": {},
   "outputs": [
    {
     "data": {
      "text/plain": [
       "360470878002000"
      ]
     },
     "execution_count": 25,
     "metadata": {},
     "output_type": "execute_result"
    }
   ],
   "source": [
    "int(list(nyc_df['census_block'].values)[0])"
   ]
  },
  {
   "cell_type": "code",
   "execution_count": 34,
   "metadata": {},
   "outputs": [
    {
     "data": {
      "text/plain": [
       "360470878002000.0"
      ]
     },
     "execution_count": 34,
     "metadata": {},
     "output_type": "execute_result"
    }
   ],
   "source": [
    "int(nyc_df['census_block'][1223436])"
   ]
  },
  {
   "cell_type": "code",
   "execution_count": 50,
   "metadata": {},
   "outputs": [
    {
     "data": {
      "text/plain": [
       "'Kings County'"
      ]
     },
     "execution_count": 50,
     "metadata": {},
     "output_type": "execute_result"
    }
   ],
   "source": [
    "list(censusblock_county_df.loc[censusblock_county_df['block_geoid'] == int(nyc_df['census_block'][1223436])]['county_name'].values)[0]"
   ]
  },
  {
   "cell_type": "code",
   "execution_count": 51,
   "metadata": {},
   "outputs": [
    {
     "name": "stderr",
     "output_type": "stream",
     "text": [
      "/var/folders/9d/3sw201814cs6b2fgw7b_vypr0000gn/T/ipykernel_62684/3527296772.py:1: SettingWithCopyWarning: \n",
      "A value is trying to be set on a copy of a slice from a DataFrame.\n",
      "Try using .loc[row_indexer,col_indexer] = value instead\n",
      "\n",
      "See the caveats in the documentation: https://pandas.pydata.org/pandas-docs/stable/user_guide/indexing.html#returning-a-view-versus-a-copy\n",
      "  nyc_df['county_name'] = ''\n",
      "/var/folders/9d/3sw201814cs6b2fgw7b_vypr0000gn/T/ipykernel_62684/3527296772.py:6: SettingWithCopyWarning: \n",
      "A value is trying to be set on a copy of a slice from a DataFrame\n",
      "\n",
      "See the caveats in the documentation: https://pandas.pydata.org/pandas-docs/stable/user_guide/indexing.html#returning-a-view-versus-a-copy\n",
      "  nyc_df['county_name'][idx] = county_name\n"
     ]
    },
    {
     "ename": "KeyboardInterrupt",
     "evalue": "",
     "output_type": "error",
     "traceback": [
      "\u001b[0;31m---------------------------------------------------------------------------\u001b[0m",
      "\u001b[0;31mKeyboardInterrupt\u001b[0m                         Traceback (most recent call last)",
      "\u001b[0;32m/var/folders/9d/3sw201814cs6b2fgw7b_vypr0000gn/T/ipykernel_62684/3527296772.py\u001b[0m in \u001b[0;36m<module>\u001b[0;34m\u001b[0m\n\u001b[1;32m      4\u001b[0m     \u001b[0mcensus_block_num\u001b[0m \u001b[0;34m=\u001b[0m \u001b[0mint\u001b[0m\u001b[0;34m(\u001b[0m\u001b[0mnyc_df\u001b[0m\u001b[0;34m[\u001b[0m\u001b[0;34m'census_block'\u001b[0m\u001b[0;34m]\u001b[0m\u001b[0;34m[\u001b[0m\u001b[0midx\u001b[0m\u001b[0;34m]\u001b[0m\u001b[0;34m)\u001b[0m\u001b[0;34m\u001b[0m\u001b[0;34m\u001b[0m\u001b[0m\n\u001b[1;32m      5\u001b[0m     \u001b[0mcounty_name\u001b[0m \u001b[0;34m=\u001b[0m \u001b[0mlist\u001b[0m\u001b[0;34m(\u001b[0m\u001b[0mcensusblock_county_df\u001b[0m\u001b[0;34m.\u001b[0m\u001b[0mloc\u001b[0m\u001b[0;34m[\u001b[0m\u001b[0mcensusblock_county_df\u001b[0m\u001b[0;34m[\u001b[0m\u001b[0;34m'block_geoid'\u001b[0m\u001b[0;34m]\u001b[0m \u001b[0;34m==\u001b[0m \u001b[0mcensus_block_num\u001b[0m\u001b[0;34m]\u001b[0m\u001b[0;34m[\u001b[0m\u001b[0;34m'county_name'\u001b[0m\u001b[0;34m]\u001b[0m\u001b[0;34m.\u001b[0m\u001b[0mvalues\u001b[0m\u001b[0;34m)\u001b[0m\u001b[0;34m[\u001b[0m\u001b[0;36m0\u001b[0m\u001b[0;34m]\u001b[0m\u001b[0;34m\u001b[0m\u001b[0;34m\u001b[0m\u001b[0m\n\u001b[0;32m----> 6\u001b[0;31m     \u001b[0mnyc_df\u001b[0m\u001b[0;34m[\u001b[0m\u001b[0;34m'county_name'\u001b[0m\u001b[0;34m]\u001b[0m\u001b[0;34m[\u001b[0m\u001b[0midx\u001b[0m\u001b[0;34m]\u001b[0m \u001b[0;34m=\u001b[0m \u001b[0mcounty_name\u001b[0m\u001b[0;34m\u001b[0m\u001b[0;34m\u001b[0m\u001b[0m\n\u001b[0m",
      "\u001b[0;32m~/opt/anaconda3/lib/python3.9/site-packages/pandas/core/series.py\u001b[0m in \u001b[0;36m__setitem__\u001b[0;34m(self, key, value)\u001b[0m\n\u001b[1;32m   1054\u001b[0m     \u001b[0;32mdef\u001b[0m \u001b[0m__setitem__\u001b[0m\u001b[0;34m(\u001b[0m\u001b[0mself\u001b[0m\u001b[0;34m,\u001b[0m \u001b[0mkey\u001b[0m\u001b[0;34m,\u001b[0m \u001b[0mvalue\u001b[0m\u001b[0;34m)\u001b[0m \u001b[0;34m->\u001b[0m \u001b[0;32mNone\u001b[0m\u001b[0;34m:\u001b[0m\u001b[0;34m\u001b[0m\u001b[0;34m\u001b[0m\u001b[0m\n\u001b[1;32m   1055\u001b[0m         \u001b[0mkey\u001b[0m \u001b[0;34m=\u001b[0m \u001b[0mcom\u001b[0m\u001b[0;34m.\u001b[0m\u001b[0mapply_if_callable\u001b[0m\u001b[0;34m(\u001b[0m\u001b[0mkey\u001b[0m\u001b[0;34m,\u001b[0m \u001b[0mself\u001b[0m\u001b[0;34m)\u001b[0m\u001b[0;34m\u001b[0m\u001b[0;34m\u001b[0m\u001b[0m\n\u001b[0;32m-> 1056\u001b[0;31m         \u001b[0mcacher_needs_updating\u001b[0m \u001b[0;34m=\u001b[0m \u001b[0mself\u001b[0m\u001b[0;34m.\u001b[0m\u001b[0m_check_is_chained_assignment_possible\u001b[0m\u001b[0;34m(\u001b[0m\u001b[0;34m)\u001b[0m\u001b[0;34m\u001b[0m\u001b[0;34m\u001b[0m\u001b[0m\n\u001b[0m\u001b[1;32m   1057\u001b[0m \u001b[0;34m\u001b[0m\u001b[0m\n\u001b[1;32m   1058\u001b[0m         \u001b[0;32mif\u001b[0m \u001b[0mkey\u001b[0m \u001b[0;32mis\u001b[0m \u001b[0mEllipsis\u001b[0m\u001b[0;34m:\u001b[0m\u001b[0;34m\u001b[0m\u001b[0;34m\u001b[0m\u001b[0m\n",
      "\u001b[0;32m~/opt/anaconda3/lib/python3.9/site-packages/pandas/core/series.py\u001b[0m in \u001b[0;36m_check_is_chained_assignment_possible\u001b[0;34m(self)\u001b[0m\n\u001b[1;32m   1209\u001b[0m         \u001b[0;32mif\u001b[0m \u001b[0mself\u001b[0m\u001b[0;34m.\u001b[0m\u001b[0m_is_view\u001b[0m \u001b[0;32mand\u001b[0m \u001b[0mself\u001b[0m\u001b[0;34m.\u001b[0m\u001b[0m_is_cached\u001b[0m\u001b[0;34m:\u001b[0m\u001b[0;34m\u001b[0m\u001b[0;34m\u001b[0m\u001b[0m\n\u001b[1;32m   1210\u001b[0m             \u001b[0mref\u001b[0m \u001b[0;34m=\u001b[0m \u001b[0mself\u001b[0m\u001b[0;34m.\u001b[0m\u001b[0m_get_cacher\u001b[0m\u001b[0;34m(\u001b[0m\u001b[0;34m)\u001b[0m\u001b[0;34m\u001b[0m\u001b[0;34m\u001b[0m\u001b[0m\n\u001b[0;32m-> 1211\u001b[0;31m             \u001b[0;32mif\u001b[0m \u001b[0mref\u001b[0m \u001b[0;32mis\u001b[0m \u001b[0;32mnot\u001b[0m \u001b[0;32mNone\u001b[0m \u001b[0;32mand\u001b[0m \u001b[0mref\u001b[0m\u001b[0;34m.\u001b[0m\u001b[0m_is_mixed_type\u001b[0m\u001b[0;34m:\u001b[0m\u001b[0;34m\u001b[0m\u001b[0;34m\u001b[0m\u001b[0m\n\u001b[0m\u001b[1;32m   1212\u001b[0m                 \u001b[0mself\u001b[0m\u001b[0;34m.\u001b[0m\u001b[0m_check_setitem_copy\u001b[0m\u001b[0;34m(\u001b[0m\u001b[0mstacklevel\u001b[0m\u001b[0;34m=\u001b[0m\u001b[0;36m4\u001b[0m\u001b[0;34m,\u001b[0m \u001b[0mt\u001b[0m\u001b[0;34m=\u001b[0m\u001b[0;34m\"referent\"\u001b[0m\u001b[0;34m,\u001b[0m \u001b[0mforce\u001b[0m\u001b[0;34m=\u001b[0m\u001b[0;32mTrue\u001b[0m\u001b[0;34m)\u001b[0m\u001b[0;34m\u001b[0m\u001b[0;34m\u001b[0m\u001b[0m\n\u001b[1;32m   1213\u001b[0m             \u001b[0;32mreturn\u001b[0m \u001b[0;32mTrue\u001b[0m\u001b[0;34m\u001b[0m\u001b[0;34m\u001b[0m\u001b[0m\n",
      "\u001b[0;32m~/opt/anaconda3/lib/python3.9/site-packages/pandas/core/generic.py\u001b[0m in \u001b[0;36m_is_mixed_type\u001b[0;34m(self)\u001b[0m\n\u001b[1;32m   5590\u001b[0m             \u001b[0;32mreturn\u001b[0m \u001b[0;32mTrue\u001b[0m\u001b[0;34m\u001b[0m\u001b[0;34m\u001b[0m\u001b[0m\n\u001b[1;32m   5591\u001b[0m \u001b[0;34m\u001b[0m\u001b[0m\n\u001b[0;32m-> 5592\u001b[0;31m         \u001b[0;32mreturn\u001b[0m \u001b[0mself\u001b[0m\u001b[0;34m.\u001b[0m\u001b[0mdtypes\u001b[0m\u001b[0;34m.\u001b[0m\u001b[0mnunique\u001b[0m\u001b[0;34m(\u001b[0m\u001b[0;34m)\u001b[0m \u001b[0;34m>\u001b[0m \u001b[0;36m1\u001b[0m\u001b[0;34m\u001b[0m\u001b[0;34m\u001b[0m\u001b[0m\n\u001b[0m\u001b[1;32m   5593\u001b[0m \u001b[0;34m\u001b[0m\u001b[0m\n\u001b[1;32m   5594\u001b[0m     \u001b[0;34m@\u001b[0m\u001b[0mfinal\u001b[0m\u001b[0;34m\u001b[0m\u001b[0;34m\u001b[0m\u001b[0m\n",
      "\u001b[0;32m~/opt/anaconda3/lib/python3.9/site-packages/pandas/core/base.py\u001b[0m in \u001b[0;36mnunique\u001b[0;34m(self, dropna)\u001b[0m\n\u001b[1;32m   1015\u001b[0m         \u001b[0;36m4\u001b[0m\u001b[0;34m\u001b[0m\u001b[0;34m\u001b[0m\u001b[0m\n\u001b[1;32m   1016\u001b[0m         \"\"\"\n\u001b[0;32m-> 1017\u001b[0;31m         \u001b[0muniqs\u001b[0m \u001b[0;34m=\u001b[0m \u001b[0mself\u001b[0m\u001b[0;34m.\u001b[0m\u001b[0munique\u001b[0m\u001b[0;34m(\u001b[0m\u001b[0;34m)\u001b[0m\u001b[0;34m\u001b[0m\u001b[0;34m\u001b[0m\u001b[0m\n\u001b[0m\u001b[1;32m   1018\u001b[0m         \u001b[0;32mif\u001b[0m \u001b[0mdropna\u001b[0m\u001b[0;34m:\u001b[0m\u001b[0;34m\u001b[0m\u001b[0;34m\u001b[0m\u001b[0m\n\u001b[1;32m   1019\u001b[0m             \u001b[0muniqs\u001b[0m \u001b[0;34m=\u001b[0m \u001b[0mremove_na_arraylike\u001b[0m\u001b[0;34m(\u001b[0m\u001b[0muniqs\u001b[0m\u001b[0;34m)\u001b[0m\u001b[0;34m\u001b[0m\u001b[0;34m\u001b[0m\u001b[0m\n",
      "\u001b[0;32m~/opt/anaconda3/lib/python3.9/site-packages/pandas/core/series.py\u001b[0m in \u001b[0;36munique\u001b[0;34m(self)\u001b[0m\n\u001b[1;32m   2037\u001b[0m         \u001b[0mCategories\u001b[0m \u001b[0;34m(\u001b[0m\u001b[0;36m3\u001b[0m\u001b[0;34m,\u001b[0m \u001b[0mobject\u001b[0m\u001b[0;34m)\u001b[0m\u001b[0;34m:\u001b[0m \u001b[0;34m[\u001b[0m\u001b[0;34m'a'\u001b[0m \u001b[0;34m<\u001b[0m \u001b[0;34m'b'\u001b[0m \u001b[0;34m<\u001b[0m \u001b[0;34m'c'\u001b[0m\u001b[0;34m]\u001b[0m\u001b[0;34m\u001b[0m\u001b[0;34m\u001b[0m\u001b[0m\n\u001b[1;32m   2038\u001b[0m         \"\"\"\n\u001b[0;32m-> 2039\u001b[0;31m         \u001b[0;32mreturn\u001b[0m \u001b[0msuper\u001b[0m\u001b[0;34m(\u001b[0m\u001b[0;34m)\u001b[0m\u001b[0;34m.\u001b[0m\u001b[0munique\u001b[0m\u001b[0;34m(\u001b[0m\u001b[0;34m)\u001b[0m\u001b[0;34m\u001b[0m\u001b[0;34m\u001b[0m\u001b[0m\n\u001b[0m\u001b[1;32m   2040\u001b[0m \u001b[0;34m\u001b[0m\u001b[0m\n\u001b[1;32m   2041\u001b[0m     \u001b[0;34m@\u001b[0m\u001b[0moverload\u001b[0m\u001b[0;34m\u001b[0m\u001b[0;34m\u001b[0m\u001b[0m\n",
      "\u001b[0;31mKeyboardInterrupt\u001b[0m: "
     ]
    }
   ],
   "source": [
    "nyc_df['county_name'] = ''\n",
    "\n",
    "for idx in nyc_df.index:\n",
    "    census_block_num = int(nyc_df['census_block'][idx])\n",
    "    county_name = list(censusblock_county_df.loc[censusblock_county_df['block_geoid'] == census_block_num]['county_name'].values)[0]\n",
    "    nyc_df['county_name'][idx] = county_name"
   ]
  },
  {
   "cell_type": "code",
   "execution_count": 61,
   "metadata": {},
   "outputs": [],
   "source": [
    "zipcodes = [10001, 10002, 10003, 10004, 10005, 10006, 10007, 10009, 10010,\n",
    "       10011, 10012, 10013, 10014, 10016, 10017, 10018, 10019, 10021,\n",
    "       10022, 10023, 10024, 10025, 10026, 10027, 10028, 10029, 10030,\n",
    "       10031, 10032, 10033, 10034, 10035, 10036, 10037, 10038, 10039,\n",
    "       10040, 10044, 10065, 10069, 10075, 10128, 10280, 10282, 10301,\n",
    "       10302, 10303, 10304, 10305, 10306, 10307, 10308, 10309, 10310,\n",
    "       10312, 10314, 10451, 10452, 10453, 10454, 10455, 10456, 10457,\n",
    "       10458, 10459, 10460, 10461, 10462, 10463, 10464, 10465, 10466,\n",
    "       10467, 10468, 10469, 10470, 10471, 10472, 10473, 10474, 10475,\n",
    "       11004, 11101, 11102, 11103, 11104, 11105, 11106, 11109, 11201,\n",
    "       11203, 11204, 11205, 11206, 11207, 11208, 11209, 11210, 11211,\n",
    "       11212, 11213, 11214, 11215, 11216, 11217, 11218, 11219, 11220,\n",
    "       11221, 11222, 11223, 11224, 11225, 11226, 11228, 11229, 11230,\n",
    "       11231, 11232, 11233, 11234, 11235, 11236, 11237, 11238, 11239,\n",
    "       11354, 11355, 11356, 11357, 11358, 11360, 11361, 11362, 11363,\n",
    "       11364, 11365, 11366, 11367, 11368, 11369, 11370, 11372, 11373,\n",
    "       11374, 11375, 11377, 11378, 11379, 11385, 11411, 11412, 11413,\n",
    "       11414, 11415, 11416, 11417, 11418, 11419, 11420, 11421, 11422,\n",
    "       11423, 11426, 11427, 11428, 11429, 11432, 11433, 11434, 11435,\n",
    "       11436, 11691, 11692, 11693, 11694, 11697]"
   ]
  },
  {
   "cell_type": "code",
   "execution_count": 55,
   "metadata": {},
   "outputs": [
    {
     "data": {
      "text/html": [
       "<div>\n",
       "<style scoped>\n",
       "    .dataframe tbody tr th:only-of-type {\n",
       "        vertical-align: middle;\n",
       "    }\n",
       "\n",
       "    .dataframe tbody tr th {\n",
       "        vertical-align: top;\n",
       "    }\n",
       "\n",
       "    .dataframe thead th {\n",
       "        text-align: right;\n",
       "    }\n",
       "</style>\n",
       "<table border=\"1\" class=\"dataframe\">\n",
       "  <thead>\n",
       "    <tr style=\"text-align: right;\">\n",
       "      <th></th>\n",
       "      <th>zip_code</th>\n",
       "      <th>latitude_centroid</th>\n",
       "      <th>longitude_centroid</th>\n",
       "      <th>city</th>\n",
       "      <th>state_abbr</th>\n",
       "      <th>state_name</th>\n",
       "      <th>zcta</th>\n",
       "      <th>parent_zcta</th>\n",
       "      <th>population</th>\n",
       "      <th>density</th>\n",
       "      <th>county_fips</th>\n",
       "      <th>county_name</th>\n",
       "      <th>timezone</th>\n",
       "    </tr>\n",
       "  </thead>\n",
       "  <tbody>\n",
       "    <tr>\n",
       "      <th>0</th>\n",
       "      <td>601</td>\n",
       "      <td>18.18027</td>\n",
       "      <td>-66.75266</td>\n",
       "      <td>Adjuntas</td>\n",
       "      <td>PR</td>\n",
       "      <td>Puerto Rico</td>\n",
       "      <td>True</td>\n",
       "      <td>NaN</td>\n",
       "      <td>16773.0</td>\n",
       "      <td>100.5</td>\n",
       "      <td>72001</td>\n",
       "      <td>Adjuntas</td>\n",
       "      <td>America/Puerto_Rico</td>\n",
       "    </tr>\n",
       "    <tr>\n",
       "      <th>1</th>\n",
       "      <td>602</td>\n",
       "      <td>18.36075</td>\n",
       "      <td>-67.17541</td>\n",
       "      <td>Aguada</td>\n",
       "      <td>PR</td>\n",
       "      <td>Puerto Rico</td>\n",
       "      <td>True</td>\n",
       "      <td>NaN</td>\n",
       "      <td>37083.0</td>\n",
       "      <td>472.1</td>\n",
       "      <td>72003</td>\n",
       "      <td>Aguada</td>\n",
       "      <td>America/Puerto_Rico</td>\n",
       "    </tr>\n",
       "    <tr>\n",
       "      <th>2</th>\n",
       "      <td>603</td>\n",
       "      <td>18.45744</td>\n",
       "      <td>-67.12225</td>\n",
       "      <td>Aguadilla</td>\n",
       "      <td>PR</td>\n",
       "      <td>Puerto Rico</td>\n",
       "      <td>True</td>\n",
       "      <td>NaN</td>\n",
       "      <td>45652.0</td>\n",
       "      <td>513.2</td>\n",
       "      <td>72005</td>\n",
       "      <td>Aguadilla</td>\n",
       "      <td>America/Puerto_Rico</td>\n",
       "    </tr>\n",
       "    <tr>\n",
       "      <th>3</th>\n",
       "      <td>606</td>\n",
       "      <td>18.16585</td>\n",
       "      <td>-66.93716</td>\n",
       "      <td>Maricao</td>\n",
       "      <td>PR</td>\n",
       "      <td>Puerto Rico</td>\n",
       "      <td>True</td>\n",
       "      <td>NaN</td>\n",
       "      <td>6231.0</td>\n",
       "      <td>54.3</td>\n",
       "      <td>72093</td>\n",
       "      <td>Maricao</td>\n",
       "      <td>America/Puerto_Rico</td>\n",
       "    </tr>\n",
       "    <tr>\n",
       "      <th>4</th>\n",
       "      <td>610</td>\n",
       "      <td>18.29110</td>\n",
       "      <td>-67.12243</td>\n",
       "      <td>Anasco</td>\n",
       "      <td>PR</td>\n",
       "      <td>Puerto Rico</td>\n",
       "      <td>True</td>\n",
       "      <td>NaN</td>\n",
       "      <td>26502.0</td>\n",
       "      <td>275.7</td>\n",
       "      <td>72011</td>\n",
       "      <td>Añasco</td>\n",
       "      <td>America/Puerto_Rico</td>\n",
       "    </tr>\n",
       "    <tr>\n",
       "      <th>...</th>\n",
       "      <td>...</td>\n",
       "      <td>...</td>\n",
       "      <td>...</td>\n",
       "      <td>...</td>\n",
       "      <td>...</td>\n",
       "      <td>...</td>\n",
       "      <td>...</td>\n",
       "      <td>...</td>\n",
       "      <td>...</td>\n",
       "      <td>...</td>\n",
       "      <td>...</td>\n",
       "      <td>...</td>\n",
       "      <td>...</td>\n",
       "    </tr>\n",
       "    <tr>\n",
       "      <th>33783</th>\n",
       "      <td>99926</td>\n",
       "      <td>55.12617</td>\n",
       "      <td>-131.48928</td>\n",
       "      <td>Metlakatla</td>\n",
       "      <td>AK</td>\n",
       "      <td>Alaska</td>\n",
       "      <td>True</td>\n",
       "      <td>NaN</td>\n",
       "      <td>1582.0</td>\n",
       "      <td>4.6</td>\n",
       "      <td>2198</td>\n",
       "      <td>Prince of Wales-Hyder</td>\n",
       "      <td>America/Metlakatla</td>\n",
       "    </tr>\n",
       "    <tr>\n",
       "      <th>33784</th>\n",
       "      <td>99927</td>\n",
       "      <td>56.33305</td>\n",
       "      <td>-133.60044</td>\n",
       "      <td>Point Baker</td>\n",
       "      <td>AK</td>\n",
       "      <td>Alaska</td>\n",
       "      <td>True</td>\n",
       "      <td>NaN</td>\n",
       "      <td>0.0</td>\n",
       "      <td>0.0</td>\n",
       "      <td>2198</td>\n",
       "      <td>Prince of Wales-Hyder</td>\n",
       "      <td>America/Sitka</td>\n",
       "    </tr>\n",
       "    <tr>\n",
       "      <th>33785</th>\n",
       "      <td>99929</td>\n",
       "      <td>56.36089</td>\n",
       "      <td>-132.00635</td>\n",
       "      <td>Wrangell</td>\n",
       "      <td>AK</td>\n",
       "      <td>Alaska</td>\n",
       "      <td>True</td>\n",
       "      <td>NaN</td>\n",
       "      <td>2509.0</td>\n",
       "      <td>0.4</td>\n",
       "      <td>2275</td>\n",
       "      <td>Wrangell</td>\n",
       "      <td>America/Sitka</td>\n",
       "    </tr>\n",
       "    <tr>\n",
       "      <th>33786</th>\n",
       "      <td>13021</td>\n",
       "      <td>42.91713</td>\n",
       "      <td>-76.55420</td>\n",
       "      <td>Auburn</td>\n",
       "      <td>NY</td>\n",
       "      <td>New York</td>\n",
       "      <td>True</td>\n",
       "      <td>NaN</td>\n",
       "      <td>37528.0</td>\n",
       "      <td>121.6</td>\n",
       "      <td>36011</td>\n",
       "      <td>Cayuga</td>\n",
       "      <td>America/New_York</td>\n",
       "    </tr>\n",
       "    <tr>\n",
       "      <th>33787</th>\n",
       "      <td>13024</td>\n",
       "      <td>42.93453</td>\n",
       "      <td>-76.57424</td>\n",
       "      <td>Auburn</td>\n",
       "      <td>NY</td>\n",
       "      <td>New York</td>\n",
       "      <td>True</td>\n",
       "      <td>NaN</td>\n",
       "      <td>1671.0</td>\n",
       "      <td>15533.1</td>\n",
       "      <td>36011</td>\n",
       "      <td>Cayuga</td>\n",
       "      <td>America/New_York</td>\n",
       "    </tr>\n",
       "  </tbody>\n",
       "</table>\n",
       "<p>33788 rows × 13 columns</p>\n",
       "</div>"
      ],
      "text/plain": [
       "       zip_code  latitude_centroid  longitude_centroid         city  \\\n",
       "0           601           18.18027           -66.75266     Adjuntas   \n",
       "1           602           18.36075           -67.17541       Aguada   \n",
       "2           603           18.45744           -67.12225    Aguadilla   \n",
       "3           606           18.16585           -66.93716      Maricao   \n",
       "4           610           18.29110           -67.12243       Anasco   \n",
       "...         ...                ...                 ...          ...   \n",
       "33783     99926           55.12617          -131.48928   Metlakatla   \n",
       "33784     99927           56.33305          -133.60044  Point Baker   \n",
       "33785     99929           56.36089          -132.00635     Wrangell   \n",
       "33786     13021           42.91713           -76.55420       Auburn   \n",
       "33787     13024           42.93453           -76.57424       Auburn   \n",
       "\n",
       "      state_abbr   state_name  zcta  parent_zcta  population  density  \\\n",
       "0             PR  Puerto Rico  True          NaN     16773.0    100.5   \n",
       "1             PR  Puerto Rico  True          NaN     37083.0    472.1   \n",
       "2             PR  Puerto Rico  True          NaN     45652.0    513.2   \n",
       "3             PR  Puerto Rico  True          NaN      6231.0     54.3   \n",
       "4             PR  Puerto Rico  True          NaN     26502.0    275.7   \n",
       "...          ...          ...   ...          ...         ...      ...   \n",
       "33783         AK       Alaska  True          NaN      1582.0      4.6   \n",
       "33784         AK       Alaska  True          NaN         0.0      0.0   \n",
       "33785         AK       Alaska  True          NaN      2509.0      0.4   \n",
       "33786         NY     New York  True          NaN     37528.0    121.6   \n",
       "33787         NY     New York  True          NaN      1671.0  15533.1   \n",
       "\n",
       "       county_fips            county_name             timezone  \n",
       "0            72001               Adjuntas  America/Puerto_Rico  \n",
       "1            72003                 Aguada  America/Puerto_Rico  \n",
       "2            72005              Aguadilla  America/Puerto_Rico  \n",
       "3            72093                Maricao  America/Puerto_Rico  \n",
       "4            72011                 Añasco  America/Puerto_Rico  \n",
       "...            ...                    ...                  ...  \n",
       "33783         2198  Prince of Wales-Hyder   America/Metlakatla  \n",
       "33784         2198  Prince of Wales-Hyder        America/Sitka  \n",
       "33785         2275               Wrangell        America/Sitka  \n",
       "33786        36011                 Cayuga     America/New_York  \n",
       "33787        36011                 Cayuga     America/New_York  \n",
       "\n",
       "[33788 rows x 13 columns]"
      ]
     },
     "execution_count": 55,
     "metadata": {},
     "output_type": "execute_result"
    }
   ],
   "source": [
    "zip_and_county"
   ]
  },
  {
   "cell_type": "code",
   "execution_count": 68,
   "metadata": {},
   "outputs": [
    {
     "data": {
      "text/plain": [
       "'Adjuntas'"
      ]
     },
     "execution_count": 68,
     "metadata": {},
     "output_type": "execute_result"
    }
   ],
   "source": [
    "list(zip_and_county.loc[zip_and_county['zip_code'] == 601]['county_name'].values)[0]"
   ]
  },
  {
   "cell_type": "code",
   "execution_count": 72,
   "metadata": {},
   "outputs": [
    {
     "data": {
      "text/html": [
       "<div>\n",
       "<style scoped>\n",
       "    .dataframe tbody tr th:only-of-type {\n",
       "        vertical-align: middle;\n",
       "    }\n",
       "\n",
       "    .dataframe tbody tr th {\n",
       "        vertical-align: top;\n",
       "    }\n",
       "\n",
       "    .dataframe thead th {\n",
       "        text-align: right;\n",
       "    }\n",
       "</style>\n",
       "<table border=\"1\" class=\"dataframe\">\n",
       "  <thead>\n",
       "    <tr style=\"text-align: right;\">\n",
       "      <th></th>\n",
       "      <th>state_fip</th>\n",
       "      <th>county_fip</th>\n",
       "      <th>county_name</th>\n",
       "      <th>tract_fip</th>\n",
       "      <th>block</th>\n",
       "      <th>tract_geoid</th>\n",
       "      <th>block_geoid</th>\n",
       "    </tr>\n",
       "  </thead>\n",
       "  <tbody>\n",
       "  </tbody>\n",
       "</table>\n",
       "</div>"
      ],
      "text/plain": [
       "Empty DataFrame\n",
       "Columns: [state_fip, county_fip, county_name, tract_fip, block, tract_geoid, block_geoid]\n",
       "Index: []"
      ]
     },
     "execution_count": 72,
     "metadata": {},
     "output_type": "execute_result"
    }
   ],
   "source": [
    "census_block_idx = censusblock_county_df.loc[censusblock_county_df['county_name'] == 'Kings']\n",
    "census_block_idx"
   ]
  },
  {
   "cell_type": "code",
   "execution_count": 63,
   "metadata": {},
   "outputs": [
    {
     "ename": "TypeError",
     "evalue": "unhashable type: 'Series'",
     "output_type": "error",
     "traceback": [
      "\u001b[0;31m---------------------------------------------------------------------------\u001b[0m",
      "\u001b[0;31mTypeError\u001b[0m                                 Traceback (most recent call last)",
      "\u001b[0;32m/var/folders/9d/3sw201814cs6b2fgw7b_vypr0000gn/T/ipykernel_62684/345119607.py\u001b[0m in \u001b[0;36m<module>\u001b[0;34m\u001b[0m\n\u001b[1;32m      1\u001b[0m \u001b[0;32mfor\u001b[0m \u001b[0mzipcode\u001b[0m \u001b[0;32min\u001b[0m \u001b[0mzipcodes\u001b[0m\u001b[0;34m:\u001b[0m\u001b[0;34m\u001b[0m\u001b[0;34m\u001b[0m\u001b[0m\n\u001b[0;32m----> 2\u001b[0;31m     \u001b[0mcountyidx\u001b[0m \u001b[0;34m=\u001b[0m \u001b[0mzip_and_county\u001b[0m\u001b[0;34m.\u001b[0m\u001b[0mloc\u001b[0m\u001b[0;34m(\u001b[0m\u001b[0mzip_and_county\u001b[0m\u001b[0;34m[\u001b[0m\u001b[0;34m'zip_code'\u001b[0m\u001b[0;34m]\u001b[0m \u001b[0;34m==\u001b[0m \u001b[0mzipcode\u001b[0m\u001b[0;34m)\u001b[0m\u001b[0;34m\u001b[0m\u001b[0;34m\u001b[0m\u001b[0m\n\u001b[0m\u001b[1;32m      3\u001b[0m     \u001b[0mcountyname\u001b[0m \u001b[0;34m=\u001b[0m \u001b[0mzip_and_county\u001b[0m\u001b[0;34m[\u001b[0m\u001b[0;34m'county_name'\u001b[0m\u001b[0;34m]\u001b[0m\u001b[0;34m[\u001b[0m\u001b[0mcountyidx\u001b[0m\u001b[0;34m]\u001b[0m\u001b[0;34m\u001b[0m\u001b[0;34m\u001b[0m\u001b[0m\n\u001b[1;32m      4\u001b[0m     \u001b[0;31m# censusidx = censusblock_county_df.loc(censusblock_county_df['county_name'] == countyname)\u001b[0m\u001b[0;34m\u001b[0m\u001b[0;34m\u001b[0m\u001b[0m\n\u001b[1;32m      5\u001b[0m     \u001b[0;31m# censusblock = censusblock_county_df['block_geoid'][censusidx]\u001b[0m\u001b[0;34m\u001b[0m\u001b[0;34m\u001b[0m\u001b[0m\n",
      "\u001b[0;32m~/opt/anaconda3/lib/python3.9/site-packages/pandas/core/indexing.py\u001b[0m in \u001b[0;36m__call__\u001b[0;34m(self, axis)\u001b[0m\n\u001b[1;32m    635\u001b[0m \u001b[0;34m\u001b[0m\u001b[0m\n\u001b[1;32m    636\u001b[0m         \u001b[0;32mif\u001b[0m \u001b[0maxis\u001b[0m \u001b[0;32mis\u001b[0m \u001b[0;32mnot\u001b[0m \u001b[0;32mNone\u001b[0m\u001b[0;34m:\u001b[0m\u001b[0;34m\u001b[0m\u001b[0;34m\u001b[0m\u001b[0m\n\u001b[0;32m--> 637\u001b[0;31m             \u001b[0maxis\u001b[0m \u001b[0;34m=\u001b[0m \u001b[0mself\u001b[0m\u001b[0;34m.\u001b[0m\u001b[0mobj\u001b[0m\u001b[0;34m.\u001b[0m\u001b[0m_get_axis_number\u001b[0m\u001b[0;34m(\u001b[0m\u001b[0maxis\u001b[0m\u001b[0;34m)\u001b[0m\u001b[0;34m\u001b[0m\u001b[0;34m\u001b[0m\u001b[0m\n\u001b[0m\u001b[1;32m    638\u001b[0m         \u001b[0mnew_self\u001b[0m\u001b[0;34m.\u001b[0m\u001b[0maxis\u001b[0m \u001b[0;34m=\u001b[0m \u001b[0maxis\u001b[0m\u001b[0;34m\u001b[0m\u001b[0;34m\u001b[0m\u001b[0m\n\u001b[1;32m    639\u001b[0m         \u001b[0;32mreturn\u001b[0m \u001b[0mnew_self\u001b[0m\u001b[0;34m\u001b[0m\u001b[0;34m\u001b[0m\u001b[0m\n",
      "\u001b[0;32m~/opt/anaconda3/lib/python3.9/site-packages/pandas/core/generic.py\u001b[0m in \u001b[0;36m_get_axis_number\u001b[0;34m(cls, axis)\u001b[0m\n\u001b[1;32m    544\u001b[0m     \u001b[0;32mdef\u001b[0m \u001b[0m_get_axis_number\u001b[0m\u001b[0;34m(\u001b[0m\u001b[0mcls\u001b[0m\u001b[0;34m,\u001b[0m \u001b[0maxis\u001b[0m\u001b[0;34m:\u001b[0m \u001b[0mAxis\u001b[0m\u001b[0;34m)\u001b[0m \u001b[0;34m->\u001b[0m \u001b[0mint\u001b[0m\u001b[0;34m:\u001b[0m\u001b[0;34m\u001b[0m\u001b[0;34m\u001b[0m\u001b[0m\n\u001b[1;32m    545\u001b[0m         \u001b[0;32mtry\u001b[0m\u001b[0;34m:\u001b[0m\u001b[0;34m\u001b[0m\u001b[0;34m\u001b[0m\u001b[0m\n\u001b[0;32m--> 546\u001b[0;31m             \u001b[0;32mreturn\u001b[0m \u001b[0mcls\u001b[0m\u001b[0;34m.\u001b[0m\u001b[0m_AXIS_TO_AXIS_NUMBER\u001b[0m\u001b[0;34m[\u001b[0m\u001b[0maxis\u001b[0m\u001b[0;34m]\u001b[0m\u001b[0;34m\u001b[0m\u001b[0;34m\u001b[0m\u001b[0m\n\u001b[0m\u001b[1;32m    547\u001b[0m         \u001b[0;32mexcept\u001b[0m \u001b[0mKeyError\u001b[0m\u001b[0;34m:\u001b[0m\u001b[0;34m\u001b[0m\u001b[0;34m\u001b[0m\u001b[0m\n\u001b[1;32m    548\u001b[0m             \u001b[0;32mraise\u001b[0m \u001b[0mValueError\u001b[0m\u001b[0;34m(\u001b[0m\u001b[0;34mf\"No axis named {axis} for object type {cls.__name__}\"\u001b[0m\u001b[0;34m)\u001b[0m\u001b[0;34m\u001b[0m\u001b[0;34m\u001b[0m\u001b[0m\n",
      "\u001b[0;31mTypeError\u001b[0m: unhashable type: 'Series'"
     ]
    }
   ],
   "source": [
    "for zipcode in zipcodes:\n",
    "    countyname = list(zip_and_county.loc[zip_and_county['zip_code'] == zipcode]['county_name'].values)[0]\n",
    "    census_block_idx = censusblock_county_df.loc[censusblock_county_df['county_name'] == countyname]"
   ]
  },
  {
   "cell_type": "code",
   "execution_count": null,
   "metadata": {},
   "outputs": [],
   "source": []
  }
 ],
 "metadata": {
  "kernelspec": {
   "display_name": "base",
   "language": "python",
   "name": "python3"
  },
  "language_info": {
   "codemirror_mode": {
    "name": "ipython",
    "version": 3
   },
   "file_extension": ".py",
   "mimetype": "text/x-python",
   "name": "python",
   "nbconvert_exporter": "python",
   "pygments_lexer": "ipython3",
   "version": "3.9.7"
  },
  "orig_nbformat": 4,
  "vscode": {
   "interpreter": {
    "hash": "eabd7c0012c83c56cd999bde1e7a82d5c26daa5f28ad111ef89ec58ccbff21d4"
   }
  }
 },
 "nbformat": 4,
 "nbformat_minor": 2
}
