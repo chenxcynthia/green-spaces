{
 "cells": [
  {
   "cell_type": "code",
   "execution_count": 1,
   "metadata": {},
   "outputs": [
    {
     "ename": "ModuleNotFoundError",
     "evalue": "No module named 'plotly'",
     "output_type": "error",
     "traceback": [
      "\u001b[0;31m---------------------------------------------------------------------------\u001b[0m",
      "\u001b[0;31mModuleNotFoundError\u001b[0m                       Traceback (most recent call last)",
      "\u001b[0;32m<ipython-input-1-3c64d5de9d1d>\u001b[0m in \u001b[0;36m<module>\u001b[0;34m\u001b[0m\n\u001b[1;32m      5\u001b[0m \u001b[0;32mimport\u001b[0m \u001b[0mpandas\u001b[0m \u001b[0;32mas\u001b[0m \u001b[0mpd\u001b[0m\u001b[0;34m\u001b[0m\u001b[0;34m\u001b[0m\u001b[0m\n\u001b[1;32m      6\u001b[0m \u001b[0;32mimport\u001b[0m \u001b[0mseaborn\u001b[0m \u001b[0;32mas\u001b[0m \u001b[0msns\u001b[0m\u001b[0;34m\u001b[0m\u001b[0;34m\u001b[0m\u001b[0m\n\u001b[0;32m----> 7\u001b[0;31m \u001b[0;32mimport\u001b[0m \u001b[0mplotly\u001b[0m\u001b[0;34m.\u001b[0m\u001b[0mgraph_objects\u001b[0m \u001b[0;32mas\u001b[0m \u001b[0mgo\u001b[0m\u001b[0;34m\u001b[0m\u001b[0;34m\u001b[0m\u001b[0m\n\u001b[0m\u001b[1;32m      8\u001b[0m \u001b[0;32mimport\u001b[0m \u001b[0mnumpy\u001b[0m \u001b[0;32mas\u001b[0m \u001b[0mnp\u001b[0m\u001b[0;34m\u001b[0m\u001b[0;34m\u001b[0m\u001b[0m\n\u001b[1;32m      9\u001b[0m \u001b[0;32mimport\u001b[0m \u001b[0mscipy\u001b[0m\u001b[0;34m\u001b[0m\u001b[0;34m\u001b[0m\u001b[0m\n",
      "\u001b[0;31mModuleNotFoundError\u001b[0m: No module named 'plotly'"
     ]
    }
   ],
   "source": [
    "# %%\n",
    "from ast import GtE\n",
    "from cmath import nan\n",
    "from contextlib import nullcontext\n",
    "import pandas as pd\n",
    "import seaborn as sns\n",
    "import plotly.graph_objects as go\n",
    "import numpy as np\n",
    "import scipy\n",
    "from plotly.subplots import make_subplots\n",
    "import math\n",
    "import os\n",
    "\n",
    "from sklearn.decomposition import PCA\n",
    "from sklearn import preprocessing\n",
    "from sklearn import metrics\n",
    "import matplotlib.pyplot as plt\n",
    "import seaborn as sns\n",
    "\n",
    "# SVM \n",
    "from sklearn.metrics import plot_confusion_matrix, classification_report, confusion_matrix\n",
    "from sklearn.model_selection import GridSearchCV\n",
    "\n",
    "from sklearn.model_selection import train_test_split\n",
    "from sklearn.linear_model import LogisticRegression, LinearRegression\n",
    "import statsmodels.api as sm\n",
    "\n",
    "from betacal import BetaCalibration\n",
    "\n",
    "\n",
    "from sklearn.datasets import load_digits\n",
    "from sklearn.manifold import Isomap, TSNE, LocallyLinearEmbedding, SpectralEmbedding\n",
    "\n",
    "\n",
    "from sklearn.svm import SVC\n",
    "\n",
    "import random\n",
    "\n",
    "import datetime\n",
    "from datetime import timedelta"
   ]
  },
  {
   "cell_type": "code",
<<<<<<< HEAD
   "execution_count": 54,
   "metadata": {},
   "outputs": [],
   "source": [
    "# zipcode and county name\n",
    "zip_and_county = pd.read_csv(\"/Users/Iris/CitadelWomenDatathon/green-spaces/relevant/us_cities_zips.csv\")"
   ]
  },
  {
   "cell_type": "code",
   "execution_count": 2,
=======
   "execution_count": null,
>>>>>>> 1b15b07289870278e3f0f1ff24276425ac83fc00
   "metadata": {},
   "outputs": [],
   "source": [
    "# census block to county name\n",
    "censusblock_county_df = pd.read_csv(\"/Users/Iris/CitadelWomenDatathon/census_code_mappers/us_blocks.csv\")"
   ]
  },
  {
   "cell_type": "code",
<<<<<<< HEAD
   "execution_count": 3,
=======
   "execution_count": null,
>>>>>>> 1b15b07289870278e3f0f1ff24276425ac83fc00
   "metadata": {},
   "outputs": [],
   "source": [
    "# by census block\n",
    "urban_tree_canopy_df = pd.read_csv(\"/Users/Iris/CitadelWomenDatathon/greenspace_data/urban_tree_canopy.csv\")"
   ]
  },
  {
   "cell_type": "code",
<<<<<<< HEAD
   "execution_count": 4,
   "metadata": {},
   "outputs": [
    {
     "data": {
      "text/html": [
       "<div>\n",
       "<style scoped>\n",
       "    .dataframe tbody tr th:only-of-type {\n",
       "        vertical-align: middle;\n",
       "    }\n",
       "\n",
       "    .dataframe tbody tr th {\n",
       "        vertical-align: top;\n",
       "    }\n",
       "\n",
       "    .dataframe thead th {\n",
       "        text-align: right;\n",
       "    }\n",
       "</style>\n",
       "<table border=\"1\" class=\"dataframe\">\n",
       "  <thead>\n",
       "    <tr style=\"text-align: right;\">\n",
       "      <th></th>\n",
       "      <th>city_name</th>\n",
       "      <th>census_block</th>\n",
       "      <th>mean_percent_tree_cover</th>\n",
       "      <th>tree_gap</th>\n",
       "      <th>surface_temp</th>\n",
       "      <th>income_percent</th>\n",
       "      <th>income_group</th>\n",
       "      <th>pop_dens_group</th>\n",
       "    </tr>\n",
       "  </thead>\n",
       "  <tbody>\n",
       "    <tr>\n",
       "      <th>0</th>\n",
       "      <td>Memphis, TN--MS--AR</td>\n",
       "      <td>4.715701e+14</td>\n",
       "      <td>0.170732</td>\n",
       "      <td>0.276204</td>\n",
       "      <td>29.350</td>\n",
       "      <td>9249</td>\n",
       "      <td>1</td>\n",
       "      <td>4</td>\n",
       "    </tr>\n",
       "    <tr>\n",
       "      <th>1</th>\n",
       "      <td>Memphis, TN--MS--AR</td>\n",
       "      <td>4.715701e+14</td>\n",
       "      <td>0.000000</td>\n",
       "      <td>0.276204</td>\n",
       "      <td>30.350</td>\n",
       "      <td>9249</td>\n",
       "      <td>1</td>\n",
       "      <td>4</td>\n",
       "    </tr>\n",
       "    <tr>\n",
       "      <th>2</th>\n",
       "      <td>Memphis, TN--MS--AR</td>\n",
       "      <td>4.715701e+14</td>\n",
       "      <td>0.050112</td>\n",
       "      <td>0.276204</td>\n",
       "      <td>32.834</td>\n",
       "      <td>12071</td>\n",
       "      <td>1</td>\n",
       "      <td>4</td>\n",
       "    </tr>\n",
       "    <tr>\n",
       "      <th>3</th>\n",
       "      <td>Memphis, TN--MS--AR</td>\n",
       "      <td>4.715701e+14</td>\n",
       "      <td>0.265038</td>\n",
       "      <td>0.276204</td>\n",
       "      <td>31.000</td>\n",
       "      <td>7721</td>\n",
       "      <td>1</td>\n",
       "      <td>4</td>\n",
       "    </tr>\n",
       "    <tr>\n",
       "      <th>4</th>\n",
       "      <td>Memphis, TN--MS--AR</td>\n",
       "      <td>4.715701e+14</td>\n",
       "      <td>0.045038</td>\n",
       "      <td>0.276204</td>\n",
       "      <td>31.450</td>\n",
       "      <td>7721</td>\n",
       "      <td>1</td>\n",
       "      <td>4</td>\n",
       "    </tr>\n",
       "  </tbody>\n",
       "</table>\n",
       "</div>"
      ],
      "text/plain": [
       "             city_name  census_block  mean_percent_tree_cover  tree_gap  \\\n",
       "0  Memphis, TN--MS--AR  4.715701e+14                 0.170732  0.276204   \n",
       "1  Memphis, TN--MS--AR  4.715701e+14                 0.000000  0.276204   \n",
       "2  Memphis, TN--MS--AR  4.715701e+14                 0.050112  0.276204   \n",
       "3  Memphis, TN--MS--AR  4.715701e+14                 0.265038  0.276204   \n",
       "4  Memphis, TN--MS--AR  4.715701e+14                 0.045038  0.276204   \n",
       "\n",
       "   surface_temp  income_percent  income_group  pop_dens_group  \n",
       "0        29.350            9249             1               4  \n",
       "1        30.350            9249             1               4  \n",
       "2        32.834           12071             1               4  \n",
       "3        31.000            7721             1               4  \n",
       "4        31.450            7721             1               4  "
      ]
     },
     "execution_count": 4,
     "metadata": {},
     "output_type": "execute_result"
    }
   ],
=======
   "execution_count": null,
   "metadata": {},
   "outputs": [],
>>>>>>> 1b15b07289870278e3f0f1ff24276425ac83fc00
   "source": [
    "urban_tree_canopy_df.head()"
   ]
  },
  {
   "cell_type": "code",
<<<<<<< HEAD
   "execution_count": 5,
   "metadata": {},
   "outputs": [
    {
     "data": {
      "text/plain": [
       "1938356"
      ]
     },
     "execution_count": 5,
     "metadata": {},
     "output_type": "execute_result"
    }
   ],
=======
   "execution_count": null,
   "metadata": {},
   "outputs": [],
>>>>>>> 1b15b07289870278e3f0f1ff24276425ac83fc00
   "source": [
    "len(urban_tree_canopy_df['census_block'].unique())"
   ]
  },
  {
   "cell_type": "code",
<<<<<<< HEAD
   "execution_count": 6,
=======
   "execution_count": null,
>>>>>>> 1b15b07289870278e3f0f1ff24276425ac83fc00
   "metadata": {},
   "outputs": [],
   "source": [
    "nyc_df = urban_tree_canopy_df.loc[urban_tree_canopy_df['city_name'] == 'New York--Newark, NY--NJ--CT']"
   ]
  },
  {
   "cell_type": "code",
<<<<<<< HEAD
   "execution_count": 7,
   "metadata": {},
   "outputs": [
    {
     "data": {
      "text/plain": [
       "<bound method Series.unique of 1230124    3.608501e+14\n",
       "1230125    3.401301e+14\n",
       "1230126    3.401300e+14\n",
       "1230127    3.401300e+14\n",
       "1230128    3.604712e+14\n",
       "               ...     \n",
       "1378538    3.610320e+14\n",
       "1378539    3.610320e+14\n",
       "1378540    3.610320e+14\n",
       "1378541    3.610320e+14\n",
       "1378542    3.610320e+14\n",
       "Name: census_block, Length: 56056, dtype: float64>"
      ]
     },
     "execution_count": 7,
     "metadata": {},
     "output_type": "execute_result"
    }
   ],
=======
   "execution_count": null,
   "metadata": {},
   "outputs": [],
>>>>>>> 1b15b07289870278e3f0f1ff24276425ac83fc00
   "source": [
    "(nyc_df.loc[urban_tree_canopy_df['pop_dens_group'] == 1]['census_block']).unique"
   ]
  },
  {
   "cell_type": "code",
<<<<<<< HEAD
   "execution_count": 8,
=======
   "execution_count": null,
>>>>>>> 1b15b07289870278e3f0f1ff24276425ac83fc00
   "metadata": {},
   "outputs": [],
   "source": [
    "import seaborn as sns\n",
    "sns.set(style=\"whitegrid\")  \n",
    "fig,axs = plt.subplots(2,2, figsize = (8,6))\n",
    "sns.histplot(data=nyc_df.loc[urban_tree_canopy_df['pop_dens_group'] == 1], x=\"mean_percent_tree_cover\", kde=True, color=\"skyblue\", ax=axs[0, 0])\n",
    "axs[0, 0].set_xlabel('pop_dens_group 1')\n",
    "sns.histplot(data=nyc_df.loc[urban_tree_canopy_df['pop_dens_group'] == 2], x=\"mean_percent_tree_cover\", kde=True, color=\"gold\", ax=axs[0, 1])\n",
    "axs[0, 1].set_xlabel('pop_dens_group 2')\n",
    "sns.histplot(data=nyc_df.loc[urban_tree_canopy_df['pop_dens_group'] == 3], x=\"mean_percent_tree_cover\", kde=True, color=\"olive\", ax=axs[1, 0])\n",
    "axs[1, 0].set_xlabel('pop_dens_group 3')\n",
    "sns.histplot(data=nyc_df.loc[urban_tree_canopy_df['pop_dens_group'] == 4], x=\"mean_percent_tree_cover\", kde=True, color=\"purple\", ax=axs[1, 1])\n",
    "axs[1, 1].set_xlabel('pop_dens_group 4')\n",
    "fig.tight_layout()"
   ]
  },
  {
   "cell_type": "code",
<<<<<<< HEAD
   "execution_count": 75,
=======
   "execution_count": null,
>>>>>>> 1b15b07289870278e3f0f1ff24276425ac83fc00
   "metadata": {},
   "outputs": [],
   "source": [
    "import seaborn as sns\n",
    "sns.set(style=\"whitegrid\")  \n",
    "fig,axs = plt.subplots(2,2, figsize = (8,6))\n",
    "sns.histplot(data=nyc_df.loc[urban_tree_canopy_df['income_group'] == 1], x=\"mean_percent_tree_cover\", kde=True, color=\"skyblue\", ax=axs[0, 0])\n",
    "axs[0, 0].set_xlabel('income 1')\n",
    "sns.histplot(data=nyc_df.loc[urban_tree_canopy_df['income_group'] == 2], x=\"mean_percent_tree_cover\", kde=True, color=\"gold\", ax=axs[0, 1])\n",
    "axs[0, 1].set_xlabel('income 2')\n",
    "sns.histplot(data=nyc_df.loc[urban_tree_canopy_df['income_group'] == 3], x=\"mean_percent_tree_cover\", kde=True, color=\"olive\", ax=axs[1, 0])\n",
    "axs[1, 0].set_xlabel('income 3')\n",
    "sns.histplot(data=nyc_df.loc[urban_tree_canopy_df['income_group'] == 4], x=\"mean_percent_tree_cover\", kde=True, color=\"purple\", ax=axs[1, 1])\n",
    "axs[1, 1].set_xlabel('income 4')\n",
    "fig.tight_layout()\n",
    "\n",
    "plt.savefig('/Users/Iris/CitadelWomenDatathon/green-spaces/figs/testing_income_v_tree.pdf', format='pdf', facecolor='w', bbox_inches='tight')"
   ]
  },
  {
   "cell_type": "code",
<<<<<<< HEAD
   "execution_count": 33,
   "metadata": {},
   "outputs": [
    {
     "data": {
      "text/plain": [
       "-0.3954661781874581"
      ]
     },
     "execution_count": 33,
     "metadata": {},
     "output_type": "execute_result"
    }
   ],
   "source": [
    "urban_tree_canopy_df['pop_dens_group'].corr(urban_tree_canopy_df['mean_percent_tree_cover'])"
   ]
  },
  {
   "cell_type": "code",
   "execution_count": 73,
   "metadata": {},
   "outputs": [
    {
     "data": {
      "image/png": "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",
      "text/plain": [
       "<Figure size 576x432 with 4 Axes>"
      ]
     },
     "metadata": {},
     "output_type": "display_data"
    }
   ],
=======
   "execution_count": null,
   "metadata": {},
   "outputs": [],
>>>>>>> 1b15b07289870278e3f0f1ff24276425ac83fc00
   "source": [
    "import seaborn as sns\n",
    "sns.set(style=\"whitegrid\")  \n",
    "fig,axs = plt.subplots(2,2, figsize = (8,6))\n",
    "sns.histplot(data=nyc_df.loc[urban_tree_canopy_df['income_group'] == 1], x=\"pop_dens_group\", kde=True, color=\"skyblue\", ax=axs[0, 0])\n",
    "axs[0, 0].set_xlabel('Income Level 1')\n",
    "sns.histplot(data=nyc_df.loc[urban_tree_canopy_df['income_group'] == 2], x=\"pop_dens_group\", kde=True, color=\"gold\", ax=axs[0, 1])\n",
    "axs[0, 1].set_xlabel('Income Level 2')\n",
    "sns.histplot(data=nyc_df.loc[urban_tree_canopy_df['income_group'] == 3], x=\"pop_dens_group\", kde=True, color=\"olive\", ax=axs[1, 0])\n",
    "axs[1, 0].set_xlabel('Income Level 3')\n",
    "sns.histplot(data=nyc_df.loc[urban_tree_canopy_df['income_group'] == 4], x=\"pop_dens_group\", kde=True, color=\"purple\", ax=axs[1, 1])\n",
    "axs[1, 1].set_xlabel('Income Level 4')\n",
    "fig.tight_layout()"
   ]
  },
  {
   "cell_type": "code",
<<<<<<< HEAD
   "execution_count": 11,
   "metadata": {},
   "outputs": [
    {
     "data": {
      "text/html": [
       "<div>\n",
       "<style scoped>\n",
       "    .dataframe tbody tr th:only-of-type {\n",
       "        vertical-align: middle;\n",
       "    }\n",
       "\n",
       "    .dataframe tbody tr th {\n",
       "        vertical-align: top;\n",
       "    }\n",
       "\n",
       "    .dataframe thead th {\n",
       "        text-align: right;\n",
       "    }\n",
       "</style>\n",
       "<table border=\"1\" class=\"dataframe\">\n",
       "  <thead>\n",
       "    <tr style=\"text-align: right;\">\n",
       "      <th></th>\n",
       "      <th>state_fip</th>\n",
       "      <th>county_fip</th>\n",
       "      <th>county_name</th>\n",
       "      <th>tract_fip</th>\n",
       "      <th>block</th>\n",
       "      <th>tract_geoid</th>\n",
       "      <th>block_geoid</th>\n",
       "    </tr>\n",
       "  </thead>\n",
       "  <tbody>\n",
       "    <tr>\n",
       "      <th>0</th>\n",
       "      <td>4</td>\n",
       "      <td>1</td>\n",
       "      <td>Apache County</td>\n",
       "      <td>942600</td>\n",
       "      <td>1000</td>\n",
       "      <td>4001942600</td>\n",
       "      <td>40019426001000</td>\n",
       "    </tr>\n",
       "    <tr>\n",
       "      <th>1</th>\n",
       "      <td>4</td>\n",
       "      <td>1</td>\n",
       "      <td>Apache County</td>\n",
       "      <td>942600</td>\n",
       "      <td>1001</td>\n",
       "      <td>4001942600</td>\n",
       "      <td>40019426001001</td>\n",
       "    </tr>\n",
       "    <tr>\n",
       "      <th>2</th>\n",
       "      <td>4</td>\n",
       "      <td>1</td>\n",
       "      <td>Apache County</td>\n",
       "      <td>942600</td>\n",
       "      <td>1002</td>\n",
       "      <td>4001942600</td>\n",
       "      <td>40019426001002</td>\n",
       "    </tr>\n",
       "    <tr>\n",
       "      <th>3</th>\n",
       "      <td>4</td>\n",
       "      <td>1</td>\n",
       "      <td>Apache County</td>\n",
       "      <td>942600</td>\n",
       "      <td>1003</td>\n",
       "      <td>4001942600</td>\n",
       "      <td>40019426001003</td>\n",
       "    </tr>\n",
       "    <tr>\n",
       "      <th>4</th>\n",
       "      <td>4</td>\n",
       "      <td>1</td>\n",
       "      <td>Apache County</td>\n",
       "      <td>942600</td>\n",
       "      <td>1004</td>\n",
       "      <td>4001942600</td>\n",
       "      <td>40019426001004</td>\n",
       "    </tr>\n",
       "    <tr>\n",
       "      <th>...</th>\n",
       "      <td>...</td>\n",
       "      <td>...</td>\n",
       "      <td>...</td>\n",
       "      <td>...</td>\n",
       "      <td>...</td>\n",
       "      <td>...</td>\n",
       "      <td>...</td>\n",
       "    </tr>\n",
       "    <tr>\n",
       "      <th>11158380</th>\n",
       "      <td>41</td>\n",
       "      <td>71</td>\n",
       "      <td>Yamhill County</td>\n",
       "      <td>31000</td>\n",
       "      <td>2138</td>\n",
       "      <td>41071031000</td>\n",
       "      <td>410710310002138</td>\n",
       "    </tr>\n",
       "    <tr>\n",
       "      <th>11158381</th>\n",
       "      <td>41</td>\n",
       "      <td>71</td>\n",
       "      <td>Yamhill County</td>\n",
       "      <td>31000</td>\n",
       "      <td>2139</td>\n",
       "      <td>41071031000</td>\n",
       "      <td>410710310002139</td>\n",
       "    </tr>\n",
       "    <tr>\n",
       "      <th>11158382</th>\n",
       "      <td>41</td>\n",
       "      <td>71</td>\n",
       "      <td>Yamhill County</td>\n",
       "      <td>31000</td>\n",
       "      <td>2140</td>\n",
       "      <td>41071031000</td>\n",
       "      <td>410710310002140</td>\n",
       "    </tr>\n",
       "    <tr>\n",
       "      <th>11158383</th>\n",
       "      <td>41</td>\n",
       "      <td>71</td>\n",
       "      <td>Yamhill County</td>\n",
       "      <td>31000</td>\n",
       "      <td>2141</td>\n",
       "      <td>41071031000</td>\n",
       "      <td>410710310002141</td>\n",
       "    </tr>\n",
       "    <tr>\n",
       "      <th>11158384</th>\n",
       "      <td>41</td>\n",
       "      <td>71</td>\n",
       "      <td>Yamhill County</td>\n",
       "      <td>31000</td>\n",
       "      <td>2142</td>\n",
       "      <td>41071031000</td>\n",
       "      <td>410710310002142</td>\n",
       "    </tr>\n",
       "  </tbody>\n",
       "</table>\n",
       "<p>11158385 rows × 7 columns</p>\n",
       "</div>"
      ],
      "text/plain": [
       "          state_fip  county_fip     county_name  tract_fip  block  \\\n",
       "0                 4           1   Apache County     942600   1000   \n",
       "1                 4           1   Apache County     942600   1001   \n",
       "2                 4           1   Apache County     942600   1002   \n",
       "3                 4           1   Apache County     942600   1003   \n",
       "4                 4           1   Apache County     942600   1004   \n",
       "...             ...         ...             ...        ...    ...   \n",
       "11158380         41          71  Yamhill County      31000   2138   \n",
       "11158381         41          71  Yamhill County      31000   2139   \n",
       "11158382         41          71  Yamhill County      31000   2140   \n",
       "11158383         41          71  Yamhill County      31000   2141   \n",
       "11158384         41          71  Yamhill County      31000   2142   \n",
       "\n",
       "          tract_geoid      block_geoid  \n",
       "0          4001942600   40019426001000  \n",
       "1          4001942600   40019426001001  \n",
       "2          4001942600   40019426001002  \n",
       "3          4001942600   40019426001003  \n",
       "4          4001942600   40019426001004  \n",
       "...               ...              ...  \n",
       "11158380  41071031000  410710310002138  \n",
       "11158381  41071031000  410710310002139  \n",
       "11158382  41071031000  410710310002140  \n",
       "11158383  41071031000  410710310002141  \n",
       "11158384  41071031000  410710310002142  \n",
       "\n",
       "[11158385 rows x 7 columns]"
      ]
     },
     "execution_count": 11,
     "metadata": {},
     "output_type": "execute_result"
    }
   ],
=======
   "execution_count": null,
   "metadata": {},
   "outputs": [],
>>>>>>> 1b15b07289870278e3f0f1ff24276425ac83fc00
   "source": [
    "censusblock_county_df"
   ]
  },
  {
   "cell_type": "code",
   "execution_count": 12,
   "metadata": {},
   "outputs": [
    {
     "data": {
      "text/html": [
       "<div>\n",
       "<style scoped>\n",
       "    .dataframe tbody tr th:only-of-type {\n",
       "        vertical-align: middle;\n",
       "    }\n",
       "\n",
       "    .dataframe tbody tr th {\n",
       "        vertical-align: top;\n",
       "    }\n",
       "\n",
       "    .dataframe thead th {\n",
       "        text-align: right;\n",
       "    }\n",
       "</style>\n",
       "<table border=\"1\" class=\"dataframe\">\n",
       "  <thead>\n",
       "    <tr style=\"text-align: right;\">\n",
       "      <th></th>\n",
       "      <th>city_name</th>\n",
       "      <th>census_block</th>\n",
       "      <th>mean_percent_tree_cover</th>\n",
       "      <th>tree_gap</th>\n",
       "      <th>surface_temp</th>\n",
       "      <th>income_percent</th>\n",
       "      <th>income_group</th>\n",
       "      <th>pop_dens_group</th>\n",
       "    </tr>\n",
       "  </thead>\n",
       "  <tbody>\n",
       "    <tr>\n",
       "      <th>1223436</th>\n",
       "      <td>New York--Newark, NY--NJ--CT</td>\n",
       "      <td>3.604709e+14</td>\n",
       "      <td>0.030497</td>\n",
       "      <td>0.196316</td>\n",
       "      <td>30.425000</td>\n",
       "      <td>12800</td>\n",
       "      <td>1</td>\n",
       "      <td>3</td>\n",
       "    </tr>\n",
       "    <tr>\n",
       "      <th>1223437</th>\n",
       "      <td>New York--Newark, NY--NJ--CT</td>\n",
       "      <td>3.401301e+14</td>\n",
       "      <td>0.104074</td>\n",
       "      <td>0.196316</td>\n",
       "      <td>31.654348</td>\n",
       "      <td>19968</td>\n",
       "      <td>1</td>\n",
       "      <td>3</td>\n",
       "    </tr>\n",
       "    <tr>\n",
       "      <th>1223438</th>\n",
       "      <td>New York--Newark, NY--NJ--CT</td>\n",
       "      <td>3.403903e+14</td>\n",
       "      <td>0.294734</td>\n",
       "      <td>0.196316</td>\n",
       "      <td>29.812500</td>\n",
       "      <td>19968</td>\n",
       "      <td>1</td>\n",
       "      <td>3</td>\n",
       "    </tr>\n",
       "    <tr>\n",
       "      <th>1223439</th>\n",
       "      <td>New York--Newark, NY--NJ--CT</td>\n",
       "      <td>3.608500e+14</td>\n",
       "      <td>0.419259</td>\n",
       "      <td>0.196316</td>\n",
       "      <td>28.116667</td>\n",
       "      <td>15361</td>\n",
       "      <td>1</td>\n",
       "      <td>3</td>\n",
       "    </tr>\n",
       "    <tr>\n",
       "      <th>1223440</th>\n",
       "      <td>New York--Newark, NY--NJ--CT</td>\n",
       "      <td>3.604709e+14</td>\n",
       "      <td>0.053940</td>\n",
       "      <td>0.196316</td>\n",
       "      <td>29.905556</td>\n",
       "      <td>19201</td>\n",
       "      <td>1</td>\n",
       "      <td>3</td>\n",
       "    </tr>\n",
       "    <tr>\n",
       "      <th>...</th>\n",
       "      <td>...</td>\n",
       "      <td>...</td>\n",
       "      <td>...</td>\n",
       "      <td>...</td>\n",
       "      <td>...</td>\n",
       "      <td>...</td>\n",
       "      <td>...</td>\n",
       "      <td>...</td>\n",
       "    </tr>\n",
       "    <tr>\n",
       "      <th>1378538</th>\n",
       "      <td>New York--Newark, NY--NJ--CT</td>\n",
       "      <td>3.610320e+14</td>\n",
       "      <td>0.374401</td>\n",
       "      <td>0.558636</td>\n",
       "      <td>26.368182</td>\n",
       "      <td>58897</td>\n",
       "      <td>4</td>\n",
       "      <td>1</td>\n",
       "    </tr>\n",
       "    <tr>\n",
       "      <th>1378539</th>\n",
       "      <td>New York--Newark, NY--NJ--CT</td>\n",
       "      <td>3.610320e+14</td>\n",
       "      <td>0.019905</td>\n",
       "      <td>0.558636</td>\n",
       "      <td>23.787500</td>\n",
       "      <td>58897</td>\n",
       "      <td>4</td>\n",
       "      <td>1</td>\n",
       "    </tr>\n",
       "    <tr>\n",
       "      <th>1378540</th>\n",
       "      <td>New York--Newark, NY--NJ--CT</td>\n",
       "      <td>3.610320e+14</td>\n",
       "      <td>0.052743</td>\n",
       "      <td>0.558636</td>\n",
       "      <td>24.057143</td>\n",
       "      <td>58897</td>\n",
       "      <td>4</td>\n",
       "      <td>1</td>\n",
       "    </tr>\n",
       "    <tr>\n",
       "      <th>1378541</th>\n",
       "      <td>New York--Newark, NY--NJ--CT</td>\n",
       "      <td>3.610320e+14</td>\n",
       "      <td>0.467982</td>\n",
       "      <td>0.558636</td>\n",
       "      <td>24.526000</td>\n",
       "      <td>58897</td>\n",
       "      <td>4</td>\n",
       "      <td>1</td>\n",
       "    </tr>\n",
       "    <tr>\n",
       "      <th>1378542</th>\n",
       "      <td>New York--Newark, NY--NJ--CT</td>\n",
       "      <td>3.610320e+14</td>\n",
       "      <td>0.033843</td>\n",
       "      <td>0.558636</td>\n",
       "      <td>28.783333</td>\n",
       "      <td>58897</td>\n",
       "      <td>4</td>\n",
       "      <td>1</td>\n",
       "    </tr>\n",
       "  </tbody>\n",
       "</table>\n",
       "<p>155107 rows × 8 columns</p>\n",
       "</div>"
      ],
      "text/plain": [
       "                            city_name  census_block  mean_percent_tree_cover  \\\n",
       "1223436  New York--Newark, NY--NJ--CT  3.604709e+14                 0.030497   \n",
       "1223437  New York--Newark, NY--NJ--CT  3.401301e+14                 0.104074   \n",
       "1223438  New York--Newark, NY--NJ--CT  3.403903e+14                 0.294734   \n",
       "1223439  New York--Newark, NY--NJ--CT  3.608500e+14                 0.419259   \n",
       "1223440  New York--Newark, NY--NJ--CT  3.604709e+14                 0.053940   \n",
       "...                               ...           ...                      ...   \n",
       "1378538  New York--Newark, NY--NJ--CT  3.610320e+14                 0.374401   \n",
       "1378539  New York--Newark, NY--NJ--CT  3.610320e+14                 0.019905   \n",
       "1378540  New York--Newark, NY--NJ--CT  3.610320e+14                 0.052743   \n",
       "1378541  New York--Newark, NY--NJ--CT  3.610320e+14                 0.467982   \n",
       "1378542  New York--Newark, NY--NJ--CT  3.610320e+14                 0.033843   \n",
       "\n",
       "         tree_gap  surface_temp  income_percent  income_group  pop_dens_group  \n",
       "1223436  0.196316     30.425000           12800             1               3  \n",
       "1223437  0.196316     31.654348           19968             1               3  \n",
       "1223438  0.196316     29.812500           19968             1               3  \n",
       "1223439  0.196316     28.116667           15361             1               3  \n",
       "1223440  0.196316     29.905556           19201             1               3  \n",
       "...           ...           ...             ...           ...             ...  \n",
       "1378538  0.558636     26.368182           58897             4               1  \n",
       "1378539  0.558636     23.787500           58897             4               1  \n",
       "1378540  0.558636     24.057143           58897             4               1  \n",
       "1378541  0.558636     24.526000           58897             4               1  \n",
       "1378542  0.558636     28.783333           58897             4               1  \n",
       "\n",
       "[155107 rows x 8 columns]"
      ]
     },
     "execution_count": 12,
     "metadata": {},
     "output_type": "execute_result"
    }
   ],
   "source": [
    "nyc_df"
   ]
  },
  {
   "cell_type": "code",
   "execution_count": 15,
   "metadata": {},
   "outputs": [
    {
     "data": {
      "text/plain": [
       "1223436"
      ]
     },
     "execution_count": 15,
     "metadata": {},
     "output_type": "execute_result"
    }
   ],
   "source": [
    "censusblock_county_df.loc[censusblock_county_df['block_geoid'] == 1223436]"
   ]
  },
  {
   "cell_type": "code",
   "execution_count": 30,
   "metadata": {},
   "outputs": [
    {
     "data": {
      "text/html": [
       "<div>\n",
       "<style scoped>\n",
       "    .dataframe tbody tr th:only-of-type {\n",
       "        vertical-align: middle;\n",
       "    }\n",
       "\n",
       "    .dataframe tbody tr th {\n",
       "        vertical-align: top;\n",
       "    }\n",
       "\n",
       "    .dataframe thead th {\n",
       "        text-align: right;\n",
       "    }\n",
       "</style>\n",
       "<table border=\"1\" class=\"dataframe\">\n",
       "  <thead>\n",
       "    <tr style=\"text-align: right;\">\n",
       "      <th></th>\n",
       "      <th>state_fip</th>\n",
       "      <th>county_fip</th>\n",
       "      <th>county_name</th>\n",
       "      <th>tract_fip</th>\n",
       "      <th>block</th>\n",
       "      <th>tract_geoid</th>\n",
       "      <th>block_geoid</th>\n",
       "    </tr>\n",
       "  </thead>\n",
       "  <tbody>\n",
       "    <tr>\n",
       "      <th>5154301</th>\n",
       "      <td>36</td>\n",
       "      <td>47</td>\n",
       "      <td>Kings County</td>\n",
       "      <td>87800</td>\n",
       "      <td>2000</td>\n",
       "      <td>36047087800</td>\n",
       "      <td>360470878002000</td>\n",
       "    </tr>\n",
       "  </tbody>\n",
       "</table>\n",
       "</div>"
      ],
      "text/plain": [
       "         state_fip  county_fip   county_name  tract_fip  block  tract_geoid  \\\n",
       "5154301         36          47  Kings County      87800   2000  36047087800   \n",
       "\n",
       "             block_geoid  \n",
       "5154301  360470878002000  "
      ]
     },
     "execution_count": 30,
     "metadata": {},
     "output_type": "execute_result"
    }
   ],
   "source": [
    "censusblock_county_df.loc[censusblock_county_df['block_geoid'] == int(list(nyc_df['census_block'].values)[0])]"
   ]
  },
  {
   "cell_type": "code",
   "execution_count": null,
   "metadata": {},
   "outputs": [],
   "source": [
    "int(list(nyc_df['census_block'].values)[0])"
   ]
  },
  {
   "cell_type": "code",
   "execution_count": 25,
   "metadata": {},
   "outputs": [
    {
     "data": {
      "text/plain": [
       "360470878002000"
      ]
     },
     "execution_count": 25,
     "metadata": {},
     "output_type": "execute_result"
    }
   ],
   "source": [
    "int(list(nyc_df['census_block'].values)[0])"
   ]
  },
  {
   "cell_type": "code",
   "execution_count": 34,
   "metadata": {},
   "outputs": [
    {
     "data": {
      "text/plain": [
       "360470878002000.0"
      ]
     },
     "execution_count": 34,
     "metadata": {},
     "output_type": "execute_result"
    }
   ],
   "source": [
    "int(nyc_df['census_block'][1223436])"
   ]
  },
  {
   "cell_type": "code",
   "execution_count": 50,
   "metadata": {},
   "outputs": [
    {
     "data": {
      "text/plain": [
       "'Kings County'"
      ]
     },
     "execution_count": 50,
     "metadata": {},
     "output_type": "execute_result"
    }
   ],
   "source": [
    "list(censusblock_county_df.loc[censusblock_county_df['block_geoid'] == int(nyc_df['census_block'][1223436])]['county_name'].values)[0]"
   ]
  },
  {
   "cell_type": "code",
   "execution_count": 51,
   "metadata": {},
   "outputs": [
    {
     "name": "stderr",
     "output_type": "stream",
     "text": [
      "/var/folders/9d/3sw201814cs6b2fgw7b_vypr0000gn/T/ipykernel_62684/3527296772.py:1: SettingWithCopyWarning: \n",
      "A value is trying to be set on a copy of a slice from a DataFrame.\n",
      "Try using .loc[row_indexer,col_indexer] = value instead\n",
      "\n",
      "See the caveats in the documentation: https://pandas.pydata.org/pandas-docs/stable/user_guide/indexing.html#returning-a-view-versus-a-copy\n",
      "  nyc_df['county_name'] = ''\n",
      "/var/folders/9d/3sw201814cs6b2fgw7b_vypr0000gn/T/ipykernel_62684/3527296772.py:6: SettingWithCopyWarning: \n",
      "A value is trying to be set on a copy of a slice from a DataFrame\n",
      "\n",
      "See the caveats in the documentation: https://pandas.pydata.org/pandas-docs/stable/user_guide/indexing.html#returning-a-view-versus-a-copy\n",
      "  nyc_df['county_name'][idx] = county_name\n"
     ]
    },
    {
     "ename": "KeyboardInterrupt",
     "evalue": "",
     "output_type": "error",
     "traceback": [
      "\u001b[0;31m---------------------------------------------------------------------------\u001b[0m",
      "\u001b[0;31mKeyboardInterrupt\u001b[0m                         Traceback (most recent call last)",
      "\u001b[0;32m/var/folders/9d/3sw201814cs6b2fgw7b_vypr0000gn/T/ipykernel_62684/3527296772.py\u001b[0m in \u001b[0;36m<module>\u001b[0;34m\u001b[0m\n\u001b[1;32m      4\u001b[0m     \u001b[0mcensus_block_num\u001b[0m \u001b[0;34m=\u001b[0m \u001b[0mint\u001b[0m\u001b[0;34m(\u001b[0m\u001b[0mnyc_df\u001b[0m\u001b[0;34m[\u001b[0m\u001b[0;34m'census_block'\u001b[0m\u001b[0;34m]\u001b[0m\u001b[0;34m[\u001b[0m\u001b[0midx\u001b[0m\u001b[0;34m]\u001b[0m\u001b[0;34m)\u001b[0m\u001b[0;34m\u001b[0m\u001b[0;34m\u001b[0m\u001b[0m\n\u001b[1;32m      5\u001b[0m     \u001b[0mcounty_name\u001b[0m \u001b[0;34m=\u001b[0m \u001b[0mlist\u001b[0m\u001b[0;34m(\u001b[0m\u001b[0mcensusblock_county_df\u001b[0m\u001b[0;34m.\u001b[0m\u001b[0mloc\u001b[0m\u001b[0;34m[\u001b[0m\u001b[0mcensusblock_county_df\u001b[0m\u001b[0;34m[\u001b[0m\u001b[0;34m'block_geoid'\u001b[0m\u001b[0;34m]\u001b[0m \u001b[0;34m==\u001b[0m \u001b[0mcensus_block_num\u001b[0m\u001b[0;34m]\u001b[0m\u001b[0;34m[\u001b[0m\u001b[0;34m'county_name'\u001b[0m\u001b[0;34m]\u001b[0m\u001b[0;34m.\u001b[0m\u001b[0mvalues\u001b[0m\u001b[0;34m)\u001b[0m\u001b[0;34m[\u001b[0m\u001b[0;36m0\u001b[0m\u001b[0;34m]\u001b[0m\u001b[0;34m\u001b[0m\u001b[0;34m\u001b[0m\u001b[0m\n\u001b[0;32m----> 6\u001b[0;31m     \u001b[0mnyc_df\u001b[0m\u001b[0;34m[\u001b[0m\u001b[0;34m'county_name'\u001b[0m\u001b[0;34m]\u001b[0m\u001b[0;34m[\u001b[0m\u001b[0midx\u001b[0m\u001b[0;34m]\u001b[0m \u001b[0;34m=\u001b[0m \u001b[0mcounty_name\u001b[0m\u001b[0;34m\u001b[0m\u001b[0;34m\u001b[0m\u001b[0m\n\u001b[0m",
      "\u001b[0;32m~/opt/anaconda3/lib/python3.9/site-packages/pandas/core/series.py\u001b[0m in \u001b[0;36m__setitem__\u001b[0;34m(self, key, value)\u001b[0m\n\u001b[1;32m   1054\u001b[0m     \u001b[0;32mdef\u001b[0m \u001b[0m__setitem__\u001b[0m\u001b[0;34m(\u001b[0m\u001b[0mself\u001b[0m\u001b[0;34m,\u001b[0m \u001b[0mkey\u001b[0m\u001b[0;34m,\u001b[0m \u001b[0mvalue\u001b[0m\u001b[0;34m)\u001b[0m \u001b[0;34m->\u001b[0m \u001b[0;32mNone\u001b[0m\u001b[0;34m:\u001b[0m\u001b[0;34m\u001b[0m\u001b[0;34m\u001b[0m\u001b[0m\n\u001b[1;32m   1055\u001b[0m         \u001b[0mkey\u001b[0m \u001b[0;34m=\u001b[0m \u001b[0mcom\u001b[0m\u001b[0;34m.\u001b[0m\u001b[0mapply_if_callable\u001b[0m\u001b[0;34m(\u001b[0m\u001b[0mkey\u001b[0m\u001b[0;34m,\u001b[0m \u001b[0mself\u001b[0m\u001b[0;34m)\u001b[0m\u001b[0;34m\u001b[0m\u001b[0;34m\u001b[0m\u001b[0m\n\u001b[0;32m-> 1056\u001b[0;31m         \u001b[0mcacher_needs_updating\u001b[0m \u001b[0;34m=\u001b[0m \u001b[0mself\u001b[0m\u001b[0;34m.\u001b[0m\u001b[0m_check_is_chained_assignment_possible\u001b[0m\u001b[0;34m(\u001b[0m\u001b[0;34m)\u001b[0m\u001b[0;34m\u001b[0m\u001b[0;34m\u001b[0m\u001b[0m\n\u001b[0m\u001b[1;32m   1057\u001b[0m \u001b[0;34m\u001b[0m\u001b[0m\n\u001b[1;32m   1058\u001b[0m         \u001b[0;32mif\u001b[0m \u001b[0mkey\u001b[0m \u001b[0;32mis\u001b[0m \u001b[0mEllipsis\u001b[0m\u001b[0;34m:\u001b[0m\u001b[0;34m\u001b[0m\u001b[0;34m\u001b[0m\u001b[0m\n",
      "\u001b[0;32m~/opt/anaconda3/lib/python3.9/site-packages/pandas/core/series.py\u001b[0m in \u001b[0;36m_check_is_chained_assignment_possible\u001b[0;34m(self)\u001b[0m\n\u001b[1;32m   1209\u001b[0m         \u001b[0;32mif\u001b[0m \u001b[0mself\u001b[0m\u001b[0;34m.\u001b[0m\u001b[0m_is_view\u001b[0m \u001b[0;32mand\u001b[0m \u001b[0mself\u001b[0m\u001b[0;34m.\u001b[0m\u001b[0m_is_cached\u001b[0m\u001b[0;34m:\u001b[0m\u001b[0;34m\u001b[0m\u001b[0;34m\u001b[0m\u001b[0m\n\u001b[1;32m   1210\u001b[0m             \u001b[0mref\u001b[0m \u001b[0;34m=\u001b[0m \u001b[0mself\u001b[0m\u001b[0;34m.\u001b[0m\u001b[0m_get_cacher\u001b[0m\u001b[0;34m(\u001b[0m\u001b[0;34m)\u001b[0m\u001b[0;34m\u001b[0m\u001b[0;34m\u001b[0m\u001b[0m\n\u001b[0;32m-> 1211\u001b[0;31m             \u001b[0;32mif\u001b[0m \u001b[0mref\u001b[0m \u001b[0;32mis\u001b[0m \u001b[0;32mnot\u001b[0m \u001b[0;32mNone\u001b[0m \u001b[0;32mand\u001b[0m \u001b[0mref\u001b[0m\u001b[0;34m.\u001b[0m\u001b[0m_is_mixed_type\u001b[0m\u001b[0;34m:\u001b[0m\u001b[0;34m\u001b[0m\u001b[0;34m\u001b[0m\u001b[0m\n\u001b[0m\u001b[1;32m   1212\u001b[0m                 \u001b[0mself\u001b[0m\u001b[0;34m.\u001b[0m\u001b[0m_check_setitem_copy\u001b[0m\u001b[0;34m(\u001b[0m\u001b[0mstacklevel\u001b[0m\u001b[0;34m=\u001b[0m\u001b[0;36m4\u001b[0m\u001b[0;34m,\u001b[0m \u001b[0mt\u001b[0m\u001b[0;34m=\u001b[0m\u001b[0;34m\"referent\"\u001b[0m\u001b[0;34m,\u001b[0m \u001b[0mforce\u001b[0m\u001b[0;34m=\u001b[0m\u001b[0;32mTrue\u001b[0m\u001b[0;34m)\u001b[0m\u001b[0;34m\u001b[0m\u001b[0;34m\u001b[0m\u001b[0m\n\u001b[1;32m   1213\u001b[0m             \u001b[0;32mreturn\u001b[0m \u001b[0;32mTrue\u001b[0m\u001b[0;34m\u001b[0m\u001b[0;34m\u001b[0m\u001b[0m\n",
      "\u001b[0;32m~/opt/anaconda3/lib/python3.9/site-packages/pandas/core/generic.py\u001b[0m in \u001b[0;36m_is_mixed_type\u001b[0;34m(self)\u001b[0m\n\u001b[1;32m   5590\u001b[0m             \u001b[0;32mreturn\u001b[0m \u001b[0;32mTrue\u001b[0m\u001b[0;34m\u001b[0m\u001b[0;34m\u001b[0m\u001b[0m\n\u001b[1;32m   5591\u001b[0m \u001b[0;34m\u001b[0m\u001b[0m\n\u001b[0;32m-> 5592\u001b[0;31m         \u001b[0;32mreturn\u001b[0m \u001b[0mself\u001b[0m\u001b[0;34m.\u001b[0m\u001b[0mdtypes\u001b[0m\u001b[0;34m.\u001b[0m\u001b[0mnunique\u001b[0m\u001b[0;34m(\u001b[0m\u001b[0;34m)\u001b[0m \u001b[0;34m>\u001b[0m \u001b[0;36m1\u001b[0m\u001b[0;34m\u001b[0m\u001b[0;34m\u001b[0m\u001b[0m\n\u001b[0m\u001b[1;32m   5593\u001b[0m \u001b[0;34m\u001b[0m\u001b[0m\n\u001b[1;32m   5594\u001b[0m     \u001b[0;34m@\u001b[0m\u001b[0mfinal\u001b[0m\u001b[0;34m\u001b[0m\u001b[0;34m\u001b[0m\u001b[0m\n",
      "\u001b[0;32m~/opt/anaconda3/lib/python3.9/site-packages/pandas/core/base.py\u001b[0m in \u001b[0;36mnunique\u001b[0;34m(self, dropna)\u001b[0m\n\u001b[1;32m   1015\u001b[0m         \u001b[0;36m4\u001b[0m\u001b[0;34m\u001b[0m\u001b[0;34m\u001b[0m\u001b[0m\n\u001b[1;32m   1016\u001b[0m         \"\"\"\n\u001b[0;32m-> 1017\u001b[0;31m         \u001b[0muniqs\u001b[0m \u001b[0;34m=\u001b[0m \u001b[0mself\u001b[0m\u001b[0;34m.\u001b[0m\u001b[0munique\u001b[0m\u001b[0;34m(\u001b[0m\u001b[0;34m)\u001b[0m\u001b[0;34m\u001b[0m\u001b[0;34m\u001b[0m\u001b[0m\n\u001b[0m\u001b[1;32m   1018\u001b[0m         \u001b[0;32mif\u001b[0m \u001b[0mdropna\u001b[0m\u001b[0;34m:\u001b[0m\u001b[0;34m\u001b[0m\u001b[0;34m\u001b[0m\u001b[0m\n\u001b[1;32m   1019\u001b[0m             \u001b[0muniqs\u001b[0m \u001b[0;34m=\u001b[0m \u001b[0mremove_na_arraylike\u001b[0m\u001b[0;34m(\u001b[0m\u001b[0muniqs\u001b[0m\u001b[0;34m)\u001b[0m\u001b[0;34m\u001b[0m\u001b[0;34m\u001b[0m\u001b[0m\n",
      "\u001b[0;32m~/opt/anaconda3/lib/python3.9/site-packages/pandas/core/series.py\u001b[0m in \u001b[0;36munique\u001b[0;34m(self)\u001b[0m\n\u001b[1;32m   2037\u001b[0m         \u001b[0mCategories\u001b[0m \u001b[0;34m(\u001b[0m\u001b[0;36m3\u001b[0m\u001b[0;34m,\u001b[0m \u001b[0mobject\u001b[0m\u001b[0;34m)\u001b[0m\u001b[0;34m:\u001b[0m \u001b[0;34m[\u001b[0m\u001b[0;34m'a'\u001b[0m \u001b[0;34m<\u001b[0m \u001b[0;34m'b'\u001b[0m \u001b[0;34m<\u001b[0m \u001b[0;34m'c'\u001b[0m\u001b[0;34m]\u001b[0m\u001b[0;34m\u001b[0m\u001b[0;34m\u001b[0m\u001b[0m\n\u001b[1;32m   2038\u001b[0m         \"\"\"\n\u001b[0;32m-> 2039\u001b[0;31m         \u001b[0;32mreturn\u001b[0m \u001b[0msuper\u001b[0m\u001b[0;34m(\u001b[0m\u001b[0;34m)\u001b[0m\u001b[0;34m.\u001b[0m\u001b[0munique\u001b[0m\u001b[0;34m(\u001b[0m\u001b[0;34m)\u001b[0m\u001b[0;34m\u001b[0m\u001b[0;34m\u001b[0m\u001b[0m\n\u001b[0m\u001b[1;32m   2040\u001b[0m \u001b[0;34m\u001b[0m\u001b[0m\n\u001b[1;32m   2041\u001b[0m     \u001b[0;34m@\u001b[0m\u001b[0moverload\u001b[0m\u001b[0;34m\u001b[0m\u001b[0;34m\u001b[0m\u001b[0m\n",
      "\u001b[0;31mKeyboardInterrupt\u001b[0m: "
     ]
    }
   ],
   "source": [
    "nyc_df['county_name'] = ''\n",
    "\n",
    "for idx in nyc_df.index:\n",
    "    census_block_num = int(nyc_df['census_block'][idx])\n",
    "    county_name = list(censusblock_county_df.loc[censusblock_county_df['block_geoid'] == census_block_num]['county_name'].values)[0]\n",
    "    nyc_df['county_name'][idx] = county_name"
   ]
  },
  {
   "cell_type": "code",
   "execution_count": 61,
   "metadata": {},
   "outputs": [],
   "source": [
    "zipcodes = [10001, 10002, 10003, 10004, 10005, 10006, 10007, 10009, 10010,\n",
    "       10011, 10012, 10013, 10014, 10016, 10017, 10018, 10019, 10021,\n",
    "       10022, 10023, 10024, 10025, 10026, 10027, 10028, 10029, 10030,\n",
    "       10031, 10032, 10033, 10034, 10035, 10036, 10037, 10038, 10039,\n",
    "       10040, 10044, 10065, 10069, 10075, 10128, 10280, 10282, 10301,\n",
    "       10302, 10303, 10304, 10305, 10306, 10307, 10308, 10309, 10310,\n",
    "       10312, 10314, 10451, 10452, 10453, 10454, 10455, 10456, 10457,\n",
    "       10458, 10459, 10460, 10461, 10462, 10463, 10464, 10465, 10466,\n",
    "       10467, 10468, 10469, 10470, 10471, 10472, 10473, 10474, 10475,\n",
    "       11004, 11101, 11102, 11103, 11104, 11105, 11106, 11109, 11201,\n",
    "       11203, 11204, 11205, 11206, 11207, 11208, 11209, 11210, 11211,\n",
    "       11212, 11213, 11214, 11215, 11216, 11217, 11218, 11219, 11220,\n",
    "       11221, 11222, 11223, 11224, 11225, 11226, 11228, 11229, 11230,\n",
    "       11231, 11232, 11233, 11234, 11235, 11236, 11237, 11238, 11239,\n",
    "       11354, 11355, 11356, 11357, 11358, 11360, 11361, 11362, 11363,\n",
    "       11364, 11365, 11366, 11367, 11368, 11369, 11370, 11372, 11373,\n",
    "       11374, 11375, 11377, 11378, 11379, 11385, 11411, 11412, 11413,\n",
    "       11414, 11415, 11416, 11417, 11418, 11419, 11420, 11421, 11422,\n",
    "       11423, 11426, 11427, 11428, 11429, 11432, 11433, 11434, 11435,\n",
    "       11436, 11691, 11692, 11693, 11694, 11697]"
   ]
  },
  {
   "cell_type": "code",
   "execution_count": 55,
   "metadata": {},
   "outputs": [
    {
     "data": {
      "text/html": [
       "<div>\n",
       "<style scoped>\n",
       "    .dataframe tbody tr th:only-of-type {\n",
       "        vertical-align: middle;\n",
       "    }\n",
       "\n",
       "    .dataframe tbody tr th {\n",
       "        vertical-align: top;\n",
       "    }\n",
       "\n",
       "    .dataframe thead th {\n",
       "        text-align: right;\n",
       "    }\n",
       "</style>\n",
       "<table border=\"1\" class=\"dataframe\">\n",
       "  <thead>\n",
       "    <tr style=\"text-align: right;\">\n",
       "      <th></th>\n",
       "      <th>zip_code</th>\n",
       "      <th>latitude_centroid</th>\n",
       "      <th>longitude_centroid</th>\n",
       "      <th>city</th>\n",
       "      <th>state_abbr</th>\n",
       "      <th>state_name</th>\n",
       "      <th>zcta</th>\n",
       "      <th>parent_zcta</th>\n",
       "      <th>population</th>\n",
       "      <th>density</th>\n",
       "      <th>county_fips</th>\n",
       "      <th>county_name</th>\n",
       "      <th>timezone</th>\n",
       "    </tr>\n",
       "  </thead>\n",
       "  <tbody>\n",
       "    <tr>\n",
       "      <th>0</th>\n",
       "      <td>601</td>\n",
       "      <td>18.18027</td>\n",
       "      <td>-66.75266</td>\n",
       "      <td>Adjuntas</td>\n",
       "      <td>PR</td>\n",
       "      <td>Puerto Rico</td>\n",
       "      <td>True</td>\n",
       "      <td>NaN</td>\n",
       "      <td>16773.0</td>\n",
       "      <td>100.5</td>\n",
       "      <td>72001</td>\n",
       "      <td>Adjuntas</td>\n",
       "      <td>America/Puerto_Rico</td>\n",
       "    </tr>\n",
       "    <tr>\n",
       "      <th>1</th>\n",
       "      <td>602</td>\n",
       "      <td>18.36075</td>\n",
       "      <td>-67.17541</td>\n",
       "      <td>Aguada</td>\n",
       "      <td>PR</td>\n",
       "      <td>Puerto Rico</td>\n",
       "      <td>True</td>\n",
       "      <td>NaN</td>\n",
       "      <td>37083.0</td>\n",
       "      <td>472.1</td>\n",
       "      <td>72003</td>\n",
       "      <td>Aguada</td>\n",
       "      <td>America/Puerto_Rico</td>\n",
       "    </tr>\n",
       "    <tr>\n",
       "      <th>2</th>\n",
       "      <td>603</td>\n",
       "      <td>18.45744</td>\n",
       "      <td>-67.12225</td>\n",
       "      <td>Aguadilla</td>\n",
       "      <td>PR</td>\n",
       "      <td>Puerto Rico</td>\n",
       "      <td>True</td>\n",
       "      <td>NaN</td>\n",
       "      <td>45652.0</td>\n",
       "      <td>513.2</td>\n",
       "      <td>72005</td>\n",
       "      <td>Aguadilla</td>\n",
       "      <td>America/Puerto_Rico</td>\n",
       "    </tr>\n",
       "    <tr>\n",
       "      <th>3</th>\n",
       "      <td>606</td>\n",
       "      <td>18.16585</td>\n",
       "      <td>-66.93716</td>\n",
       "      <td>Maricao</td>\n",
       "      <td>PR</td>\n",
       "      <td>Puerto Rico</td>\n",
       "      <td>True</td>\n",
       "      <td>NaN</td>\n",
       "      <td>6231.0</td>\n",
       "      <td>54.3</td>\n",
       "      <td>72093</td>\n",
       "      <td>Maricao</td>\n",
       "      <td>America/Puerto_Rico</td>\n",
       "    </tr>\n",
       "    <tr>\n",
       "      <th>4</th>\n",
       "      <td>610</td>\n",
       "      <td>18.29110</td>\n",
       "      <td>-67.12243</td>\n",
       "      <td>Anasco</td>\n",
       "      <td>PR</td>\n",
       "      <td>Puerto Rico</td>\n",
       "      <td>True</td>\n",
       "      <td>NaN</td>\n",
       "      <td>26502.0</td>\n",
       "      <td>275.7</td>\n",
       "      <td>72011</td>\n",
       "      <td>Añasco</td>\n",
       "      <td>America/Puerto_Rico</td>\n",
       "    </tr>\n",
       "    <tr>\n",
       "      <th>...</th>\n",
       "      <td>...</td>\n",
       "      <td>...</td>\n",
       "      <td>...</td>\n",
       "      <td>...</td>\n",
       "      <td>...</td>\n",
       "      <td>...</td>\n",
       "      <td>...</td>\n",
       "      <td>...</td>\n",
       "      <td>...</td>\n",
       "      <td>...</td>\n",
       "      <td>...</td>\n",
       "      <td>...</td>\n",
       "      <td>...</td>\n",
       "    </tr>\n",
       "    <tr>\n",
       "      <th>33783</th>\n",
       "      <td>99926</td>\n",
       "      <td>55.12617</td>\n",
       "      <td>-131.48928</td>\n",
       "      <td>Metlakatla</td>\n",
       "      <td>AK</td>\n",
       "      <td>Alaska</td>\n",
       "      <td>True</td>\n",
       "      <td>NaN</td>\n",
       "      <td>1582.0</td>\n",
       "      <td>4.6</td>\n",
       "      <td>2198</td>\n",
       "      <td>Prince of Wales-Hyder</td>\n",
       "      <td>America/Metlakatla</td>\n",
       "    </tr>\n",
       "    <tr>\n",
       "      <th>33784</th>\n",
       "      <td>99927</td>\n",
       "      <td>56.33305</td>\n",
       "      <td>-133.60044</td>\n",
       "      <td>Point Baker</td>\n",
       "      <td>AK</td>\n",
       "      <td>Alaska</td>\n",
       "      <td>True</td>\n",
       "      <td>NaN</td>\n",
       "      <td>0.0</td>\n",
       "      <td>0.0</td>\n",
       "      <td>2198</td>\n",
       "      <td>Prince of Wales-Hyder</td>\n",
       "      <td>America/Sitka</td>\n",
       "    </tr>\n",
       "    <tr>\n",
       "      <th>33785</th>\n",
       "      <td>99929</td>\n",
       "      <td>56.36089</td>\n",
       "      <td>-132.00635</td>\n",
       "      <td>Wrangell</td>\n",
       "      <td>AK</td>\n",
       "      <td>Alaska</td>\n",
       "      <td>True</td>\n",
       "      <td>NaN</td>\n",
       "      <td>2509.0</td>\n",
       "      <td>0.4</td>\n",
       "      <td>2275</td>\n",
       "      <td>Wrangell</td>\n",
       "      <td>America/Sitka</td>\n",
       "    </tr>\n",
       "    <tr>\n",
       "      <th>33786</th>\n",
       "      <td>13021</td>\n",
       "      <td>42.91713</td>\n",
       "      <td>-76.55420</td>\n",
       "      <td>Auburn</td>\n",
       "      <td>NY</td>\n",
       "      <td>New York</td>\n",
       "      <td>True</td>\n",
       "      <td>NaN</td>\n",
       "      <td>37528.0</td>\n",
       "      <td>121.6</td>\n",
       "      <td>36011</td>\n",
       "      <td>Cayuga</td>\n",
       "      <td>America/New_York</td>\n",
       "    </tr>\n",
       "    <tr>\n",
       "      <th>33787</th>\n",
       "      <td>13024</td>\n",
       "      <td>42.93453</td>\n",
       "      <td>-76.57424</td>\n",
       "      <td>Auburn</td>\n",
       "      <td>NY</td>\n",
       "      <td>New York</td>\n",
       "      <td>True</td>\n",
       "      <td>NaN</td>\n",
       "      <td>1671.0</td>\n",
       "      <td>15533.1</td>\n",
       "      <td>36011</td>\n",
       "      <td>Cayuga</td>\n",
       "      <td>America/New_York</td>\n",
       "    </tr>\n",
       "  </tbody>\n",
       "</table>\n",
       "<p>33788 rows × 13 columns</p>\n",
       "</div>"
      ],
      "text/plain": [
       "       zip_code  latitude_centroid  longitude_centroid         city  \\\n",
       "0           601           18.18027           -66.75266     Adjuntas   \n",
       "1           602           18.36075           -67.17541       Aguada   \n",
       "2           603           18.45744           -67.12225    Aguadilla   \n",
       "3           606           18.16585           -66.93716      Maricao   \n",
       "4           610           18.29110           -67.12243       Anasco   \n",
       "...         ...                ...                 ...          ...   \n",
       "33783     99926           55.12617          -131.48928   Metlakatla   \n",
       "33784     99927           56.33305          -133.60044  Point Baker   \n",
       "33785     99929           56.36089          -132.00635     Wrangell   \n",
       "33786     13021           42.91713           -76.55420       Auburn   \n",
       "33787     13024           42.93453           -76.57424       Auburn   \n",
       "\n",
       "      state_abbr   state_name  zcta  parent_zcta  population  density  \\\n",
       "0             PR  Puerto Rico  True          NaN     16773.0    100.5   \n",
       "1             PR  Puerto Rico  True          NaN     37083.0    472.1   \n",
       "2             PR  Puerto Rico  True          NaN     45652.0    513.2   \n",
       "3             PR  Puerto Rico  True          NaN      6231.0     54.3   \n",
       "4             PR  Puerto Rico  True          NaN     26502.0    275.7   \n",
       "...          ...          ...   ...          ...         ...      ...   \n",
       "33783         AK       Alaska  True          NaN      1582.0      4.6   \n",
       "33784         AK       Alaska  True          NaN         0.0      0.0   \n",
       "33785         AK       Alaska  True          NaN      2509.0      0.4   \n",
       "33786         NY     New York  True          NaN     37528.0    121.6   \n",
       "33787         NY     New York  True          NaN      1671.0  15533.1   \n",
       "\n",
       "       county_fips            county_name             timezone  \n",
       "0            72001               Adjuntas  America/Puerto_Rico  \n",
       "1            72003                 Aguada  America/Puerto_Rico  \n",
       "2            72005              Aguadilla  America/Puerto_Rico  \n",
       "3            72093                Maricao  America/Puerto_Rico  \n",
       "4            72011                 Añasco  America/Puerto_Rico  \n",
       "...            ...                    ...                  ...  \n",
       "33783         2198  Prince of Wales-Hyder   America/Metlakatla  \n",
       "33784         2198  Prince of Wales-Hyder        America/Sitka  \n",
       "33785         2275               Wrangell        America/Sitka  \n",
       "33786        36011                 Cayuga     America/New_York  \n",
       "33787        36011                 Cayuga     America/New_York  \n",
       "\n",
       "[33788 rows x 13 columns]"
      ]
     },
     "execution_count": 55,
     "metadata": {},
     "output_type": "execute_result"
    }
   ],
   "source": [
    "zip_and_county"
   ]
  },
  {
   "cell_type": "code",
   "execution_count": 68,
   "metadata": {},
   "outputs": [
    {
     "data": {
      "text/plain": [
       "'Adjuntas'"
      ]
     },
     "execution_count": 68,
     "metadata": {},
     "output_type": "execute_result"
    }
   ],
   "source": [
    "list(zip_and_county.loc[zip_and_county['zip_code'] == 601]['county_name'].values)[0]"
   ]
  },
  {
   "cell_type": "code",
   "execution_count": 72,
   "metadata": {},
   "outputs": [
    {
     "data": {
      "text/html": [
       "<div>\n",
       "<style scoped>\n",
       "    .dataframe tbody tr th:only-of-type {\n",
       "        vertical-align: middle;\n",
       "    }\n",
       "\n",
       "    .dataframe tbody tr th {\n",
       "        vertical-align: top;\n",
       "    }\n",
       "\n",
       "    .dataframe thead th {\n",
       "        text-align: right;\n",
       "    }\n",
       "</style>\n",
       "<table border=\"1\" class=\"dataframe\">\n",
       "  <thead>\n",
       "    <tr style=\"text-align: right;\">\n",
       "      <th></th>\n",
       "      <th>state_fip</th>\n",
       "      <th>county_fip</th>\n",
       "      <th>county_name</th>\n",
       "      <th>tract_fip</th>\n",
       "      <th>block</th>\n",
       "      <th>tract_geoid</th>\n",
       "      <th>block_geoid</th>\n",
       "    </tr>\n",
       "  </thead>\n",
       "  <tbody>\n",
       "  </tbody>\n",
       "</table>\n",
       "</div>"
      ],
      "text/plain": [
       "Empty DataFrame\n",
       "Columns: [state_fip, county_fip, county_name, tract_fip, block, tract_geoid, block_geoid]\n",
       "Index: []"
      ]
     },
     "execution_count": 72,
     "metadata": {},
     "output_type": "execute_result"
    }
   ],
   "source": [
    "census_block_idx = censusblock_county_df.loc[censusblock_county_df['county_name'] == 'Kings']\n",
    "census_block_idx"
   ]
  },
  {
   "cell_type": "code",
   "execution_count": 63,
   "metadata": {},
   "outputs": [
    {
     "ename": "TypeError",
     "evalue": "unhashable type: 'Series'",
     "output_type": "error",
     "traceback": [
      "\u001b[0;31m---------------------------------------------------------------------------\u001b[0m",
      "\u001b[0;31mTypeError\u001b[0m                                 Traceback (most recent call last)",
      "\u001b[0;32m/var/folders/9d/3sw201814cs6b2fgw7b_vypr0000gn/T/ipykernel_62684/345119607.py\u001b[0m in \u001b[0;36m<module>\u001b[0;34m\u001b[0m\n\u001b[1;32m      1\u001b[0m \u001b[0;32mfor\u001b[0m \u001b[0mzipcode\u001b[0m \u001b[0;32min\u001b[0m \u001b[0mzipcodes\u001b[0m\u001b[0;34m:\u001b[0m\u001b[0;34m\u001b[0m\u001b[0;34m\u001b[0m\u001b[0m\n\u001b[0;32m----> 2\u001b[0;31m     \u001b[0mcountyidx\u001b[0m \u001b[0;34m=\u001b[0m \u001b[0mzip_and_county\u001b[0m\u001b[0;34m.\u001b[0m\u001b[0mloc\u001b[0m\u001b[0;34m(\u001b[0m\u001b[0mzip_and_county\u001b[0m\u001b[0;34m[\u001b[0m\u001b[0;34m'zip_code'\u001b[0m\u001b[0;34m]\u001b[0m \u001b[0;34m==\u001b[0m \u001b[0mzipcode\u001b[0m\u001b[0;34m)\u001b[0m\u001b[0;34m\u001b[0m\u001b[0;34m\u001b[0m\u001b[0m\n\u001b[0m\u001b[1;32m      3\u001b[0m     \u001b[0mcountyname\u001b[0m \u001b[0;34m=\u001b[0m \u001b[0mzip_and_county\u001b[0m\u001b[0;34m[\u001b[0m\u001b[0;34m'county_name'\u001b[0m\u001b[0;34m]\u001b[0m\u001b[0;34m[\u001b[0m\u001b[0mcountyidx\u001b[0m\u001b[0;34m]\u001b[0m\u001b[0;34m\u001b[0m\u001b[0;34m\u001b[0m\u001b[0m\n\u001b[1;32m      4\u001b[0m     \u001b[0;31m# censusidx = censusblock_county_df.loc(censusblock_county_df['county_name'] == countyname)\u001b[0m\u001b[0;34m\u001b[0m\u001b[0;34m\u001b[0m\u001b[0m\n\u001b[1;32m      5\u001b[0m     \u001b[0;31m# censusblock = censusblock_county_df['block_geoid'][censusidx]\u001b[0m\u001b[0;34m\u001b[0m\u001b[0;34m\u001b[0m\u001b[0m\n",
      "\u001b[0;32m~/opt/anaconda3/lib/python3.9/site-packages/pandas/core/indexing.py\u001b[0m in \u001b[0;36m__call__\u001b[0;34m(self, axis)\u001b[0m\n\u001b[1;32m    635\u001b[0m \u001b[0;34m\u001b[0m\u001b[0m\n\u001b[1;32m    636\u001b[0m         \u001b[0;32mif\u001b[0m \u001b[0maxis\u001b[0m \u001b[0;32mis\u001b[0m \u001b[0;32mnot\u001b[0m \u001b[0;32mNone\u001b[0m\u001b[0;34m:\u001b[0m\u001b[0;34m\u001b[0m\u001b[0;34m\u001b[0m\u001b[0m\n\u001b[0;32m--> 637\u001b[0;31m             \u001b[0maxis\u001b[0m \u001b[0;34m=\u001b[0m \u001b[0mself\u001b[0m\u001b[0;34m.\u001b[0m\u001b[0mobj\u001b[0m\u001b[0;34m.\u001b[0m\u001b[0m_get_axis_number\u001b[0m\u001b[0;34m(\u001b[0m\u001b[0maxis\u001b[0m\u001b[0;34m)\u001b[0m\u001b[0;34m\u001b[0m\u001b[0;34m\u001b[0m\u001b[0m\n\u001b[0m\u001b[1;32m    638\u001b[0m         \u001b[0mnew_self\u001b[0m\u001b[0;34m.\u001b[0m\u001b[0maxis\u001b[0m \u001b[0;34m=\u001b[0m \u001b[0maxis\u001b[0m\u001b[0;34m\u001b[0m\u001b[0;34m\u001b[0m\u001b[0m\n\u001b[1;32m    639\u001b[0m         \u001b[0;32mreturn\u001b[0m \u001b[0mnew_self\u001b[0m\u001b[0;34m\u001b[0m\u001b[0;34m\u001b[0m\u001b[0m\n",
      "\u001b[0;32m~/opt/anaconda3/lib/python3.9/site-packages/pandas/core/generic.py\u001b[0m in \u001b[0;36m_get_axis_number\u001b[0;34m(cls, axis)\u001b[0m\n\u001b[1;32m    544\u001b[0m     \u001b[0;32mdef\u001b[0m \u001b[0m_get_axis_number\u001b[0m\u001b[0;34m(\u001b[0m\u001b[0mcls\u001b[0m\u001b[0;34m,\u001b[0m \u001b[0maxis\u001b[0m\u001b[0;34m:\u001b[0m \u001b[0mAxis\u001b[0m\u001b[0;34m)\u001b[0m \u001b[0;34m->\u001b[0m \u001b[0mint\u001b[0m\u001b[0;34m:\u001b[0m\u001b[0;34m\u001b[0m\u001b[0;34m\u001b[0m\u001b[0m\n\u001b[1;32m    545\u001b[0m         \u001b[0;32mtry\u001b[0m\u001b[0;34m:\u001b[0m\u001b[0;34m\u001b[0m\u001b[0;34m\u001b[0m\u001b[0m\n\u001b[0;32m--> 546\u001b[0;31m             \u001b[0;32mreturn\u001b[0m \u001b[0mcls\u001b[0m\u001b[0;34m.\u001b[0m\u001b[0m_AXIS_TO_AXIS_NUMBER\u001b[0m\u001b[0;34m[\u001b[0m\u001b[0maxis\u001b[0m\u001b[0;34m]\u001b[0m\u001b[0;34m\u001b[0m\u001b[0;34m\u001b[0m\u001b[0m\n\u001b[0m\u001b[1;32m    547\u001b[0m         \u001b[0;32mexcept\u001b[0m \u001b[0mKeyError\u001b[0m\u001b[0;34m:\u001b[0m\u001b[0;34m\u001b[0m\u001b[0;34m\u001b[0m\u001b[0m\n\u001b[1;32m    548\u001b[0m             \u001b[0;32mraise\u001b[0m \u001b[0mValueError\u001b[0m\u001b[0;34m(\u001b[0m\u001b[0;34mf\"No axis named {axis} for object type {cls.__name__}\"\u001b[0m\u001b[0;34m)\u001b[0m\u001b[0;34m\u001b[0m\u001b[0;34m\u001b[0m\u001b[0m\n",
      "\u001b[0;31mTypeError\u001b[0m: unhashable type: 'Series'"
     ]
    }
   ],
   "source": [
    "for zipcode in zipcodes:\n",
    "    countyname = list(zip_and_county.loc[zip_and_county['zip_code'] == zipcode]['county_name'].values)[0]\n",
    "    census_block_idx = censusblock_county_df.loc[censusblock_county_df['county_name'] == countyname]"
   ]
  },
  {
   "cell_type": "code",
   "execution_count": null,
   "metadata": {},
   "outputs": [],
   "source": []
  }
 ],
 "metadata": {
  "kernelspec": {
   "display_name": "Python 3",
   "language": "python",
   "name": "python3"
  },
  "language_info": {
   "codemirror_mode": {
    "name": "ipython",
    "version": 3
   },
   "file_extension": ".py",
   "mimetype": "text/x-python",
   "name": "python",
   "nbconvert_exporter": "python",
   "pygments_lexer": "ipython3",
   "version": "3.7.6"
  },
  "vscode": {
   "interpreter": {
    "hash": "eabd7c0012c83c56cd999bde1e7a82d5c26daa5f28ad111ef89ec58ccbff21d4"
   }
  }
 },
 "nbformat": 4,
 "nbformat_minor": 2
}
