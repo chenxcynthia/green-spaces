{
 "cells": [
  {
   "cell_type": "code",
   "execution_count": 1,
   "id": "97237713",
   "metadata": {},
   "outputs": [],
   "source": [
    "import pandas as pd\n",
    "import numpy as np"
   ]
  },
  {
   "cell_type": "code",
   "execution_count": 2,
   "id": "f67a5b03",
   "metadata": {},
   "outputs": [],
   "source": [
    "# percent cover data\n",
    "df_pc = pd.read_table('relevant/percent_cover_zipcode.txt', delimiter = ',')\n",
    "df_pc.columns = ['zip', 'pc_cover']\n",
    "df_pc_nyc = df_pc.loc[(df_pc['zip'] >= 10001) & (df_pc['zip'] <= 11697)]\n",
    "df_cities_zips = pd.read_csv('relevant/us_cities_zips.csv')\n",
    "\n",
    "# nyc zip codes: 10001 to 11697\n",
    "df_zip_nyc = df_cities_zips.loc[(df_cities_zips['zip_code'] >= 10001) & (df_cities_zips['zip_code'] <= 11697)]\n",
    "df_zip_nyc_relevant = df_zip_nyc[['zip_code', 'population', 'density']]\n",
    "df_zip_nyc_relevant.columns = ['zip', 'population', 'density']\n",
    "\n",
    "# merge datasets\n",
    "combined = pd.merge(df_zip_nyc_relevant, df_pc_nyc, how=\"outer\")\n",
    "combined = combined.dropna()"
   ]
  },
  {
   "cell_type": "code",
   "execution_count": 3,
   "id": "ce0825a1",
   "metadata": {},
   "outputs": [],
   "source": [
    "# covid data\n",
    "df_hosprate = pd.read_csv('relevant/covid/hosprate-by-modzcta.csv')\n",
    "df_deathrate = pd.read_csv('relevant/covid/deathrate-by-modzcta.csv')\n",
    "df_percentpos = pd.read_csv('relevant/covid/percentpositive-by-modzcta.csv')\n",
    "\n",
    "# df_hosprate = df_hosprate.transpose()\n",
    "# df_hosprate.columns = df_hosprate.iloc[0]\n",
    "# df_hosprate.drop(df_hosprate.index[0])\n",
    "# get covid stats [hosp rate, death rate, percent pos] averaged by zip code across all months in 2020-current\n",
    "temp = []\n",
    "cols = df_hosprate.columns\n",
    "for i in range(7, len(cols)):\n",
    "    hosp_avg = np.nanmean(list(df_hosprate[df_hosprate.columns[i]]))\n",
    "    death_avg = np.nanmean(list(df_deathrate[df_deathrate.columns[i]]))\n",
    "    percentpos_avg = np.nanmean(list(df_percentpos[df_percentpos.columns[i]]))\n",
    "    temp.append([cols[i][-5:], hosp_avg, death_avg, percentpos_avg])\n",
    "    \n",
    "covid_data = pd.DataFrame(data = temp, columns = ['zip', 'hosp_avg', 'death_avg', 'percentpos_avg'])\n",
    "covid_data['zip']=covid_data['zip'].astype(int)\n",
    "df_combined = combined.merge(covid_data, left_on='zip', right_on='zip')"
   ]
  },
  {
   "cell_type": "code",
   "execution_count": null,
   "id": "6313568f",
   "metadata": {},
   "outputs": [],
   "source": []
  }
 ],
 "metadata": {
  "kernelspec": {
   "display_name": "research23",
   "language": "python",
   "name": "research23"
  },
  "language_info": {
   "codemirror_mode": {
    "name": "ipython",
    "version": 3
   },
   "file_extension": ".py",
   "mimetype": "text/x-python",
   "name": "python",
   "nbconvert_exporter": "python",
   "pygments_lexer": "ipython3",
   "version": "3.9.12"
  }
 },
 "nbformat": 4,
 "nbformat_minor": 5
}
