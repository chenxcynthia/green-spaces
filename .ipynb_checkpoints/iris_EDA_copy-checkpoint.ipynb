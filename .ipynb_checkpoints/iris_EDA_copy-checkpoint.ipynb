{
 "cells": [
  {
   "cell_type": "code",
   "execution_count": 1,
   "metadata": {},
   "outputs": [
    {
     "ename": "ModuleNotFoundError",
     "evalue": "No module named 'plotly'",
     "output_type": "error",
     "traceback": [
      "\u001b[0;31m---------------------------------------------------------------------------\u001b[0m",
      "\u001b[0;31mModuleNotFoundError\u001b[0m                       Traceback (most recent call last)",
      "\u001b[0;32m<ipython-input-1-3c64d5de9d1d>\u001b[0m in \u001b[0;36m<module>\u001b[0;34m\u001b[0m\n\u001b[1;32m      5\u001b[0m \u001b[0;32mimport\u001b[0m \u001b[0mpandas\u001b[0m \u001b[0;32mas\u001b[0m \u001b[0mpd\u001b[0m\u001b[0;34m\u001b[0m\u001b[0;34m\u001b[0m\u001b[0m\n\u001b[1;32m      6\u001b[0m \u001b[0;32mimport\u001b[0m \u001b[0mseaborn\u001b[0m \u001b[0;32mas\u001b[0m \u001b[0msns\u001b[0m\u001b[0;34m\u001b[0m\u001b[0;34m\u001b[0m\u001b[0m\n\u001b[0;32m----> 7\u001b[0;31m \u001b[0;32mimport\u001b[0m \u001b[0mplotly\u001b[0m\u001b[0;34m.\u001b[0m\u001b[0mgraph_objects\u001b[0m \u001b[0;32mas\u001b[0m \u001b[0mgo\u001b[0m\u001b[0;34m\u001b[0m\u001b[0;34m\u001b[0m\u001b[0m\n\u001b[0m\u001b[1;32m      8\u001b[0m \u001b[0;32mimport\u001b[0m \u001b[0mnumpy\u001b[0m \u001b[0;32mas\u001b[0m \u001b[0mnp\u001b[0m\u001b[0;34m\u001b[0m\u001b[0;34m\u001b[0m\u001b[0m\n\u001b[1;32m      9\u001b[0m \u001b[0;32mimport\u001b[0m \u001b[0mscipy\u001b[0m\u001b[0;34m\u001b[0m\u001b[0;34m\u001b[0m\u001b[0m\n",
      "\u001b[0;31mModuleNotFoundError\u001b[0m: No module named 'plotly'"
     ]
    }
   ],
   "source": [
    "# %%\n",
    "from ast import GtE\n",
    "from cmath import nan\n",
    "from contextlib import nullcontext\n",
    "import pandas as pd\n",
    "import seaborn as sns\n",
    "import plotly.graph_objects as go\n",
    "import numpy as np\n",
    "import scipy\n",
    "from plotly.subplots import make_subplots\n",
    "import math\n",
    "import os\n",
    "\n",
    "from sklearn.decomposition import PCA\n",
    "from sklearn import preprocessing\n",
    "from sklearn import metrics\n",
    "import matplotlib.pyplot as plt\n",
    "import seaborn as sns\n",
    "\n",
    "# SVM \n",
    "from sklearn.metrics import plot_confusion_matrix, classification_report, confusion_matrix\n",
    "from sklearn.model_selection import GridSearchCV\n",
    "\n",
    "from sklearn.model_selection import train_test_split\n",
    "from sklearn.linear_model import LogisticRegression, LinearRegression\n",
    "import statsmodels.api as sm\n",
    "\n",
    "from betacal import BetaCalibration\n",
    "\n",
    "\n",
    "from sklearn.datasets import load_digits\n",
    "from sklearn.manifold import Isomap, TSNE, LocallyLinearEmbedding, SpectralEmbedding\n",
    "\n",
    "\n",
    "from sklearn.svm import SVC\n",
    "\n",
    "import random\n",
    "\n",
    "import datetime\n",
    "from datetime import timedelta"
   ]
  },
  {
   "cell_type": "code",
   "execution_count": null,
   "metadata": {},
   "outputs": [],
   "source": [
    "# census block to county name\n",
    "censusblock_county_df = pd.read_csv(\"/Users/Iris/CitadelWomenDatathon/census_code_mappers/us_blocks.csv\")"
   ]
  },
  {
   "cell_type": "code",
   "execution_count": null,
   "metadata": {},
   "outputs": [],
   "source": [
    "# by census block\n",
    "urban_tree_canopy_df = pd.read_csv(\"/Users/Iris/CitadelWomenDatathon/greenspace_data/urban_tree_canopy.csv\")"
   ]
  },
  {
   "cell_type": "code",
   "execution_count": null,
   "metadata": {},
   "outputs": [],
   "source": [
    "urban_tree_canopy_df.head()"
   ]
  },
  {
   "cell_type": "code",
   "execution_count": null,
   "metadata": {},
   "outputs": [],
   "source": [
    "len(urban_tree_canopy_df['census_block'].unique())"
   ]
  },
  {
   "cell_type": "code",
   "execution_count": null,
   "metadata": {},
   "outputs": [],
   "source": [
    "nyc_df = urban_tree_canopy_df.loc[urban_tree_canopy_df['city_name'] == 'New York--Newark, NY--NJ--CT']"
   ]
  },
  {
   "cell_type": "code",
   "execution_count": null,
   "metadata": {},
   "outputs": [],
   "source": [
    "(nyc_df.loc[urban_tree_canopy_df['pop_dens_group'] == 1]['census_block']).unique"
   ]
  },
  {
   "cell_type": "code",
   "execution_count": null,
   "metadata": {},
   "outputs": [],
   "source": [
    "import seaborn as sns\n",
    "sns.set(style=\"whitegrid\")  \n",
    "fig,axs = plt.subplots(2,2, figsize = (8,6))\n",
    "sns.histplot(data=nyc_df.loc[urban_tree_canopy_df['pop_dens_group'] == 1], x=\"mean_percent_tree_cover\", kde=True, color=\"skyblue\", ax=axs[0, 0])\n",
    "axs[0, 0].set_xlabel('pop_dens_group 1')\n",
    "sns.histplot(data=nyc_df.loc[urban_tree_canopy_df['pop_dens_group'] == 2], x=\"mean_percent_tree_cover\", kde=True, color=\"gold\", ax=axs[0, 1])\n",
    "axs[0, 1].set_xlabel('pop_dens_group 2')\n",
    "sns.histplot(data=nyc_df.loc[urban_tree_canopy_df['pop_dens_group'] == 3], x=\"mean_percent_tree_cover\", kde=True, color=\"olive\", ax=axs[1, 0])\n",
    "axs[1, 0].set_xlabel('pop_dens_group 3')\n",
    "sns.histplot(data=nyc_df.loc[urban_tree_canopy_df['pop_dens_group'] == 4], x=\"mean_percent_tree_cover\", kde=True, color=\"purple\", ax=axs[1, 1])\n",
    "axs[1, 1].set_xlabel('pop_dens_group 4')\n",
    "fig.tight_layout()"
   ]
  },
  {
   "cell_type": "code",
   "execution_count": null,
   "metadata": {},
   "outputs": [],
   "source": [
    "import seaborn as sns\n",
    "sns.set(style=\"whitegrid\")  \n",
    "fig,axs = plt.subplots(2,2, figsize = (8,6))\n",
    "sns.histplot(data=nyc_df.loc[urban_tree_canopy_df['income_group'] == 1], x=\"mean_percent_tree_cover\", kde=True, color=\"skyblue\", ax=axs[0, 0])\n",
    "axs[0, 0].set_xlabel('income 1')\n",
    "sns.histplot(data=nyc_df.loc[urban_tree_canopy_df['income_group'] == 2], x=\"mean_percent_tree_cover\", kde=True, color=\"gold\", ax=axs[0, 1])\n",
    "axs[0, 1].set_xlabel('income 2')\n",
    "sns.histplot(data=nyc_df.loc[urban_tree_canopy_df['income_group'] == 3], x=\"mean_percent_tree_cover\", kde=True, color=\"olive\", ax=axs[1, 0])\n",
    "axs[1, 0].set_xlabel('income 3')\n",
    "sns.histplot(data=nyc_df.loc[urban_tree_canopy_df['income_group'] == 4], x=\"mean_percent_tree_cover\", kde=True, color=\"purple\", ax=axs[1, 1])\n",
    "axs[1, 1].set_xlabel('income 4')\n",
    "fig.tight_layout()"
   ]
  },
  {
   "cell_type": "code",
   "execution_count": null,
   "metadata": {},
   "outputs": [],
   "source": [
    "import seaborn as sns\n",
    "sns.set(style=\"whitegrid\")  \n",
    "fig,axs = plt.subplots(2,2, figsize = (8,6))\n",
    "sns.histplot(data=nyc_df.loc[urban_tree_canopy_df['income_group'] == 1], x=\"pop_dens_group\", kde=True, color=\"skyblue\", ax=axs[0, 0])\n",
    "axs[0, 0].set_xlabel('income 1')\n",
    "sns.histplot(data=nyc_df.loc[urban_tree_canopy_df['income_group'] == 2], x=\"pop_dens_group\", kde=True, color=\"gold\", ax=axs[0, 1])\n",
    "axs[0, 1].set_xlabel('income 2')\n",
    "sns.histplot(data=nyc_df.loc[urban_tree_canopy_df['income_group'] == 3], x=\"pop_dens_group\", kde=True, color=\"olive\", ax=axs[1, 0])\n",
    "axs[1, 0].set_xlabel('income 3')\n",
    "sns.histplot(data=nyc_df.loc[urban_tree_canopy_df['income_group'] == 4], x=\"pop_dens_group\", kde=True, color=\"purple\", ax=axs[1, 1])\n",
    "axs[1, 1].set_xlabel('income 4')\n",
    "fig.tight_layout()"
   ]
  },
  {
   "cell_type": "code",
   "execution_count": null,
   "metadata": {},
   "outputs": [],
   "source": [
    "censusblock_county_df"
   ]
  },
  {
   "cell_type": "code",
   "execution_count": null,
   "metadata": {},
   "outputs": [],
   "source": []
  },
  {
   "cell_type": "code",
   "execution_count": null,
   "metadata": {},
   "outputs": [],
   "source": []
  }
 ],
 "metadata": {
  "kernelspec": {
   "display_name": "Python 3",
   "language": "python",
   "name": "python3"
  },
  "language_info": {
   "codemirror_mode": {
    "name": "ipython",
    "version": 3
   },
   "file_extension": ".py",
   "mimetype": "text/x-python",
   "name": "python",
   "nbconvert_exporter": "python",
   "pygments_lexer": "ipython3",
   "version": "3.7.6"
  },
  "vscode": {
   "interpreter": {
    "hash": "eabd7c0012c83c56cd999bde1e7a82d5c26daa5f28ad111ef89ec58ccbff21d4"
   }
  }
 },
 "nbformat": 4,
 "nbformat_minor": 2
}
