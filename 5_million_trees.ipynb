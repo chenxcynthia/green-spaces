{
 "cells": [
  {
   "cell_type": "code",
   "execution_count": 1,
   "metadata": {},
   "outputs": [],
   "source": [
    "import pandas as pd"
   ]
  },
  {
   "cell_type": "code",
   "execution_count": 2,
   "metadata": {},
   "outputs": [
    {
     "name": "stderr",
     "output_type": "stream",
     "text": [
      "/Users/laurenc82/opt/anaconda3/lib/python3.7/site-packages/IPython/core/interactiveshell.py:3063: DtypeWarning: Columns (0,1,7,8,9,10,12,14,16,18,19,20,21,22,23,24,26) have mixed types.Specify dtype option on import or set low_memory=False.\n",
      "  interactivity=interactivity, compiler=compiler, result=result)\n"
     ]
    }
   ],
   "source": [
    "df_5_million_trees = pd.read_csv('../green_space_data/5_million_trees_us_cities.csv')"
   ]
  },
  {
   "cell_type": "code",
   "execution_count": 14,
   "metadata": {},
   "outputs": [],
   "source": [
    "df_trees = df_5_million_trees.dropna(subset=['zipcode'])\n",
    "df_trees = df_trees.loc[(df_5_million_trees['zipcode'] != 'None')]\n",
    "df_trees['zipcode'] = pd.to_numeric(df_trees['zipcode'])\n",
    "df_trees['diameter_breast_height_CM'] = pd.to_numeric(df_trees['diameter_breast_height_CM'])\n",
    "df_trees = df_trees.loc[(df_trees['zipcode'] >= 10001) & (df_trees['zipcode'] <= 11697)]\n",
    "df_trees = df_trees[['common_name', 'scientific_name', 'zipcode',\n",
    "                   'diameter_breast_height_CM', 'condition', 'native',\n",
    "                   'diameter_breast_height_binned_CM', 'city_ID',\n",
    "                   'most_recent_observation']]"
   ]
  },
  {
   "cell_type": "code",
   "execution_count": 12,
   "metadata": {},
   "outputs": [],
   "source": [
    "df_trees.to_csv('5_million_trees_NYC.csv')"
   ]
  },
  {
   "cell_type": "code",
   "execution_count": 13,
   "metadata": {},
   "outputs": [
    {
     "data": {
      "text/plain": [
       "common_name                          object\n",
       "scientific_name                      object\n",
       "zipcode                             float64\n",
       "diameter_breast_height_CM           float64\n",
       "condition                            object\n",
       "native                               object\n",
       "diameter_breast_height_binned_CM     object\n",
       "city_ID                              object\n",
       "most_recent_observation              object\n",
       "dtype: object"
      ]
     },
     "execution_count": 13,
     "metadata": {},
     "output_type": "execute_result"
    }
   ],
   "source": [
    "df_trees.dtypes"
   ]
  },
  {
   "cell_type": "code",
   "execution_count": null,
   "metadata": {},
   "outputs": [],
   "source": []
  }
 ],
 "metadata": {
  "kernelspec": {
   "display_name": "Python 3",
   "language": "python",
   "name": "python3"
  },
  "language_info": {
   "codemirror_mode": {
    "name": "ipython",
    "version": 3
   },
   "file_extension": ".py",
   "mimetype": "text/x-python",
   "name": "python",
   "nbconvert_exporter": "python",
   "pygments_lexer": "ipython3",
   "version": "3.7.6"
  }
 },
 "nbformat": 4,
 "nbformat_minor": 4
}
