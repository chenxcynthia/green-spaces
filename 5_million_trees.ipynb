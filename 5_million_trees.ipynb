{
 "cells": [
  {
   "cell_type": "code",
   "execution_count": 1,
   "metadata": {},
   "outputs": [],
   "source": [
    "import pandas as pd"
   ]
  },
  {
   "cell_type": "code",
   "execution_count": 5,
   "metadata": {},
   "outputs": [],
   "source": [
    "df_5_million_trees = pd.read_csv('relevant/5_million_trees_NYC.csv')"
   ]
  },
  {
   "cell_type": "code",
   "execution_count": 6,
   "metadata": {},
   "outputs": [
    {
     "name": "stderr",
     "output_type": "stream",
     "text": [
      "/Users/cynthiachen/anaconda2/envs/py36/lib/python3.6/site-packages/pandas/core/ops.py:1649: FutureWarning: elementwise comparison failed; returning scalar instead, but in the future will perform elementwise comparison\n",
      "  result = method(y)\n"
     ]
    }
   ],
   "source": [
    "df_trees = df_5_million_trees.dropna(subset=['zipcode'])\n",
    "df_trees = df_trees.loc[(df_5_million_trees['zipcode'] != 'None')]\n",
    "df_trees['zipcode'] = pd.to_numeric(df_trees['zipcode'])\n",
    "df_trees['diameter_breast_height_CM'] = pd.to_numeric(df_trees['diameter_breast_height_CM'])\n",
    "df_trees = df_trees.loc[(df_trees['zipcode'] >= 10001) & (df_trees['zipcode'] <= 11697)]\n",
    "df_trees = df_trees[['common_name', 'scientific_name', 'zipcode',\n",
    "                   'diameter_breast_height_CM', 'condition', 'native',\n",
    "                   'diameter_breast_height_binned_CM', 'city_ID',\n",
    "                   'most_recent_observation']]"
   ]
  },
  {
   "cell_type": "code",
   "execution_count": 11,
   "metadata": {},
   "outputs": [
    {
     "data": {
      "text/plain": [
       "0         11375.0\n",
       "1         11357.0\n",
       "2         11211.0\n",
       "3         11211.0\n",
       "4         11215.0\n",
       "5         10023.0\n",
       "6         10023.0\n",
       "7         10019.0\n",
       "8         10305.0\n",
       "9         11223.0\n",
       "10        11105.0\n",
       "11        11105.0\n",
       "12        10308.0\n",
       "13        11205.0\n",
       "14        11212.0\n",
       "15        11205.0\n",
       "16        11214.0\n",
       "17        11226.0\n",
       "18        11373.0\n",
       "19        11205.0\n",
       "20        11215.0\n",
       "21        10021.0\n",
       "22        10024.0\n",
       "23        10306.0\n",
       "24        11217.0\n",
       "25        11214.0\n",
       "26        11415.0\n",
       "27        11230.0\n",
       "28        10002.0\n",
       "29        11385.0\n",
       "           ...   \n",
       "682823    11385.0\n",
       "682824    11375.0\n",
       "682825    11237.0\n",
       "682826    11219.0\n",
       "682827    11222.0\n",
       "682828    11373.0\n",
       "682829    10280.0\n",
       "682830    11209.0\n",
       "682831    11354.0\n",
       "682832    11214.0\n",
       "682833    10024.0\n",
       "682834    10314.0\n",
       "682835    10457.0\n",
       "682836    11235.0\n",
       "682837    11205.0\n",
       "682838    10010.0\n",
       "682839    11375.0\n",
       "682840    10014.0\n",
       "682841    11210.0\n",
       "682842    11213.0\n",
       "682843    11230.0\n",
       "682844    11229.0\n",
       "682845    11377.0\n",
       "682846    11226.0\n",
       "682847    10457.0\n",
       "682848    11211.0\n",
       "682849    11375.0\n",
       "682850    10314.0\n",
       "682851    10457.0\n",
       "682852    11365.0\n",
       "Name: zipcode, Length: 682853, dtype: float64"
      ]
     },
     "execution_count": 11,
     "metadata": {},
     "output_type": "execute_result"
    }
   ],
   "source": [
    "df_trees['zipcode']"
   ]
  },
  {
   "cell_type": "code",
   "execution_count": 9,
   "metadata": {},
   "outputs": [],
   "source": [
    "# df_trees.to_csv('5_million_trees_NYC.csv')"
   ]
  },
  {
   "cell_type": "code",
   "execution_count": 8,
   "metadata": {},
   "outputs": [
    {
     "data": {
      "text/plain": [
       "common_name                          object\n",
       "scientific_name                      object\n",
       "zipcode                             float64\n",
       "diameter_breast_height_CM           float64\n",
       "condition                            object\n",
       "native                               object\n",
       "diameter_breast_height_binned_CM     object\n",
       "city_ID                              object\n",
       "most_recent_observation              object\n",
       "dtype: object"
      ]
     },
     "execution_count": 8,
     "metadata": {},
     "output_type": "execute_result"
    }
   ],
   "source": [
    "df_trees.dtypes"
   ]
  },
  {
   "cell_type": "code",
   "execution_count": null,
   "metadata": {},
   "outputs": [],
   "source": []
  }
 ],
 "metadata": {
  "kernelspec": {
   "display_name": "Python 3",
   "language": "python",
   "name": "python3"
  },
  "language_info": {
   "codemirror_mode": {
    "name": "ipython",
    "version": 3
   },
   "file_extension": ".py",
   "mimetype": "text/x-python",
   "name": "python",
   "nbconvert_exporter": "python",
   "pygments_lexer": "ipython3",
   "version": "3.6.8"
  }
 },
 "nbformat": 4,
 "nbformat_minor": 4
}
